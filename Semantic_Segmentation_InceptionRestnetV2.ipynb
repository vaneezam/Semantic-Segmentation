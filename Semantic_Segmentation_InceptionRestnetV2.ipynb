{
  "nbformat": 4,
  "nbformat_minor": 0,
  "metadata": {
    "colab": {
      "name": "Semantic Segmentation InceptionRestnetV2.ipynb",
      "provenance": [],
      "collapsed_sections": []
    },
    "kernelspec": {
      "name": "python3",
      "display_name": "Python 3"
    },
    "language_info": {
      "name": "python"
    },
    "widgets": {
      "application/vnd.jupyter.widget-state+json": {
        "089a344b2386406281275117b80d99ce": {
          "model_module": "@jupyter-widgets/controls",
          "model_name": "HBoxModel",
          "model_module_version": "1.5.0",
          "state": {
            "_view_name": "HBoxView",
            "_dom_classes": [],
            "_model_name": "HBoxModel",
            "_view_module": "@jupyter-widgets/controls",
            "_model_module_version": "1.5.0",
            "_view_count": null,
            "_view_module_version": "1.5.0",
            "box_style": "",
            "layout": "IPY_MODEL_881e2c4252e1498c883fbed3adb2b569",
            "_model_module": "@jupyter-widgets/controls",
            "children": [
              "IPY_MODEL_5778417670714a19b965d0e70de2313c",
              "IPY_MODEL_45998513c2c245cd806e37c0a99dc4bd",
              "IPY_MODEL_0c95916fccad4710a18297527f50d87f"
            ]
          }
        },
        "881e2c4252e1498c883fbed3adb2b569": {
          "model_module": "@jupyter-widgets/base",
          "model_name": "LayoutModel",
          "model_module_version": "1.2.0",
          "state": {
            "_view_name": "LayoutView",
            "grid_template_rows": null,
            "right": null,
            "justify_content": null,
            "_view_module": "@jupyter-widgets/base",
            "overflow": null,
            "_model_module_version": "1.2.0",
            "_view_count": null,
            "flex_flow": null,
            "width": null,
            "min_width": null,
            "border": null,
            "align_items": null,
            "bottom": null,
            "_model_module": "@jupyter-widgets/base",
            "top": null,
            "grid_column": null,
            "overflow_y": null,
            "overflow_x": null,
            "grid_auto_flow": null,
            "grid_area": null,
            "grid_template_columns": null,
            "flex": null,
            "_model_name": "LayoutModel",
            "justify_items": null,
            "grid_row": null,
            "max_height": null,
            "align_content": null,
            "visibility": null,
            "align_self": null,
            "height": null,
            "min_height": null,
            "padding": null,
            "grid_auto_rows": null,
            "grid_gap": null,
            "max_width": null,
            "order": null,
            "_view_module_version": "1.2.0",
            "grid_template_areas": null,
            "object_position": null,
            "object_fit": null,
            "grid_auto_columns": null,
            "margin": null,
            "display": null,
            "left": null
          }
        },
        "5778417670714a19b965d0e70de2313c": {
          "model_module": "@jupyter-widgets/controls",
          "model_name": "HTMLModel",
          "model_module_version": "1.5.0",
          "state": {
            "_view_name": "HTMLView",
            "style": "IPY_MODEL_2ac4c69669554df0af2df2f6bed7e939",
            "_dom_classes": [],
            "description": "",
            "_model_name": "HTMLModel",
            "placeholder": "​",
            "_view_module": "@jupyter-widgets/controls",
            "_model_module_version": "1.5.0",
            "value": "100%",
            "_view_count": null,
            "_view_module_version": "1.5.0",
            "description_tooltip": null,
            "_model_module": "@jupyter-widgets/controls",
            "layout": "IPY_MODEL_d233b49514384ab28af268ce432dec65"
          }
        },
        "45998513c2c245cd806e37c0a99dc4bd": {
          "model_module": "@jupyter-widgets/controls",
          "model_name": "FloatProgressModel",
          "model_module_version": "1.5.0",
          "state": {
            "_view_name": "ProgressView",
            "style": "IPY_MODEL_d15c2276546748ca8065f191d28daaab",
            "_dom_classes": [],
            "description": "",
            "_model_name": "FloatProgressModel",
            "bar_style": "success",
            "max": 367,
            "_view_module": "@jupyter-widgets/controls",
            "_model_module_version": "1.5.0",
            "value": 367,
            "_view_count": null,
            "_view_module_version": "1.5.0",
            "orientation": "horizontal",
            "min": 0,
            "description_tooltip": null,
            "_model_module": "@jupyter-widgets/controls",
            "layout": "IPY_MODEL_5699a61dd54e449eb63e823712790e3a"
          }
        },
        "0c95916fccad4710a18297527f50d87f": {
          "model_module": "@jupyter-widgets/controls",
          "model_name": "HTMLModel",
          "model_module_version": "1.5.0",
          "state": {
            "_view_name": "HTMLView",
            "style": "IPY_MODEL_59859500d93c44daa0305acb8925ca73",
            "_dom_classes": [],
            "description": "",
            "_model_name": "HTMLModel",
            "placeholder": "​",
            "_view_module": "@jupyter-widgets/controls",
            "_model_module_version": "1.5.0",
            "value": " 367/367 [00:06&lt;00:00, 54.75it/s]",
            "_view_count": null,
            "_view_module_version": "1.5.0",
            "description_tooltip": null,
            "_model_module": "@jupyter-widgets/controls",
            "layout": "IPY_MODEL_4ca8b9ab64324804b647d980228f7672"
          }
        },
        "2ac4c69669554df0af2df2f6bed7e939": {
          "model_module": "@jupyter-widgets/controls",
          "model_name": "DescriptionStyleModel",
          "model_module_version": "1.5.0",
          "state": {
            "_view_name": "StyleView",
            "_model_name": "DescriptionStyleModel",
            "description_width": "",
            "_view_module": "@jupyter-widgets/base",
            "_model_module_version": "1.5.0",
            "_view_count": null,
            "_view_module_version": "1.2.0",
            "_model_module": "@jupyter-widgets/controls"
          }
        },
        "d233b49514384ab28af268ce432dec65": {
          "model_module": "@jupyter-widgets/base",
          "model_name": "LayoutModel",
          "model_module_version": "1.2.0",
          "state": {
            "_view_name": "LayoutView",
            "grid_template_rows": null,
            "right": null,
            "justify_content": null,
            "_view_module": "@jupyter-widgets/base",
            "overflow": null,
            "_model_module_version": "1.2.0",
            "_view_count": null,
            "flex_flow": null,
            "width": null,
            "min_width": null,
            "border": null,
            "align_items": null,
            "bottom": null,
            "_model_module": "@jupyter-widgets/base",
            "top": null,
            "grid_column": null,
            "overflow_y": null,
            "overflow_x": null,
            "grid_auto_flow": null,
            "grid_area": null,
            "grid_template_columns": null,
            "flex": null,
            "_model_name": "LayoutModel",
            "justify_items": null,
            "grid_row": null,
            "max_height": null,
            "align_content": null,
            "visibility": null,
            "align_self": null,
            "height": null,
            "min_height": null,
            "padding": null,
            "grid_auto_rows": null,
            "grid_gap": null,
            "max_width": null,
            "order": null,
            "_view_module_version": "1.2.0",
            "grid_template_areas": null,
            "object_position": null,
            "object_fit": null,
            "grid_auto_columns": null,
            "margin": null,
            "display": null,
            "left": null
          }
        },
        "d15c2276546748ca8065f191d28daaab": {
          "model_module": "@jupyter-widgets/controls",
          "model_name": "ProgressStyleModel",
          "model_module_version": "1.5.0",
          "state": {
            "_view_name": "StyleView",
            "_model_name": "ProgressStyleModel",
            "description_width": "",
            "_view_module": "@jupyter-widgets/base",
            "_model_module_version": "1.5.0",
            "_view_count": null,
            "_view_module_version": "1.2.0",
            "bar_color": null,
            "_model_module": "@jupyter-widgets/controls"
          }
        },
        "5699a61dd54e449eb63e823712790e3a": {
          "model_module": "@jupyter-widgets/base",
          "model_name": "LayoutModel",
          "model_module_version": "1.2.0",
          "state": {
            "_view_name": "LayoutView",
            "grid_template_rows": null,
            "right": null,
            "justify_content": null,
            "_view_module": "@jupyter-widgets/base",
            "overflow": null,
            "_model_module_version": "1.2.0",
            "_view_count": null,
            "flex_flow": null,
            "width": null,
            "min_width": null,
            "border": null,
            "align_items": null,
            "bottom": null,
            "_model_module": "@jupyter-widgets/base",
            "top": null,
            "grid_column": null,
            "overflow_y": null,
            "overflow_x": null,
            "grid_auto_flow": null,
            "grid_area": null,
            "grid_template_columns": null,
            "flex": null,
            "_model_name": "LayoutModel",
            "justify_items": null,
            "grid_row": null,
            "max_height": null,
            "align_content": null,
            "visibility": null,
            "align_self": null,
            "height": null,
            "min_height": null,
            "padding": null,
            "grid_auto_rows": null,
            "grid_gap": null,
            "max_width": null,
            "order": null,
            "_view_module_version": "1.2.0",
            "grid_template_areas": null,
            "object_position": null,
            "object_fit": null,
            "grid_auto_columns": null,
            "margin": null,
            "display": null,
            "left": null
          }
        },
        "59859500d93c44daa0305acb8925ca73": {
          "model_module": "@jupyter-widgets/controls",
          "model_name": "DescriptionStyleModel",
          "model_module_version": "1.5.0",
          "state": {
            "_view_name": "StyleView",
            "_model_name": "DescriptionStyleModel",
            "description_width": "",
            "_view_module": "@jupyter-widgets/base",
            "_model_module_version": "1.5.0",
            "_view_count": null,
            "_view_module_version": "1.2.0",
            "_model_module": "@jupyter-widgets/controls"
          }
        },
        "4ca8b9ab64324804b647d980228f7672": {
          "model_module": "@jupyter-widgets/base",
          "model_name": "LayoutModel",
          "model_module_version": "1.2.0",
          "state": {
            "_view_name": "LayoutView",
            "grid_template_rows": null,
            "right": null,
            "justify_content": null,
            "_view_module": "@jupyter-widgets/base",
            "overflow": null,
            "_model_module_version": "1.2.0",
            "_view_count": null,
            "flex_flow": null,
            "width": null,
            "min_width": null,
            "border": null,
            "align_items": null,
            "bottom": null,
            "_model_module": "@jupyter-widgets/base",
            "top": null,
            "grid_column": null,
            "overflow_y": null,
            "overflow_x": null,
            "grid_auto_flow": null,
            "grid_area": null,
            "grid_template_columns": null,
            "flex": null,
            "_model_name": "LayoutModel",
            "justify_items": null,
            "grid_row": null,
            "max_height": null,
            "align_content": null,
            "visibility": null,
            "align_self": null,
            "height": null,
            "min_height": null,
            "padding": null,
            "grid_auto_rows": null,
            "grid_gap": null,
            "max_width": null,
            "order": null,
            "_view_module_version": "1.2.0",
            "grid_template_areas": null,
            "object_position": null,
            "object_fit": null,
            "grid_auto_columns": null,
            "margin": null,
            "display": null,
            "left": null
          }
        },
        "1ee97eb0400f43369f6b07ebf8e8b3ae": {
          "model_module": "@jupyter-widgets/controls",
          "model_name": "HBoxModel",
          "model_module_version": "1.5.0",
          "state": {
            "_view_name": "HBoxView",
            "_dom_classes": [],
            "_model_name": "HBoxModel",
            "_view_module": "@jupyter-widgets/controls",
            "_model_module_version": "1.5.0",
            "_view_count": null,
            "_view_module_version": "1.5.0",
            "box_style": "",
            "layout": "IPY_MODEL_290d2de72eb74750928b6e0ee0177bba",
            "_model_module": "@jupyter-widgets/controls",
            "children": [
              "IPY_MODEL_ef5666cd849542e4b23cbe485c6cd3bd",
              "IPY_MODEL_c145dc89c48941f8bb679a06584742d4",
              "IPY_MODEL_6eb29844891b411f9b3960bbe3f5be4d"
            ]
          }
        },
        "290d2de72eb74750928b6e0ee0177bba": {
          "model_module": "@jupyter-widgets/base",
          "model_name": "LayoutModel",
          "model_module_version": "1.2.0",
          "state": {
            "_view_name": "LayoutView",
            "grid_template_rows": null,
            "right": null,
            "justify_content": null,
            "_view_module": "@jupyter-widgets/base",
            "overflow": null,
            "_model_module_version": "1.2.0",
            "_view_count": null,
            "flex_flow": null,
            "width": null,
            "min_width": null,
            "border": null,
            "align_items": null,
            "bottom": null,
            "_model_module": "@jupyter-widgets/base",
            "top": null,
            "grid_column": null,
            "overflow_y": null,
            "overflow_x": null,
            "grid_auto_flow": null,
            "grid_area": null,
            "grid_template_columns": null,
            "flex": null,
            "_model_name": "LayoutModel",
            "justify_items": null,
            "grid_row": null,
            "max_height": null,
            "align_content": null,
            "visibility": null,
            "align_self": null,
            "height": null,
            "min_height": null,
            "padding": null,
            "grid_auto_rows": null,
            "grid_gap": null,
            "max_width": null,
            "order": null,
            "_view_module_version": "1.2.0",
            "grid_template_areas": null,
            "object_position": null,
            "object_fit": null,
            "grid_auto_columns": null,
            "margin": null,
            "display": null,
            "left": null
          }
        },
        "ef5666cd849542e4b23cbe485c6cd3bd": {
          "model_module": "@jupyter-widgets/controls",
          "model_name": "HTMLModel",
          "model_module_version": "1.5.0",
          "state": {
            "_view_name": "HTMLView",
            "style": "IPY_MODEL_22ce470883f04450835b159fbe7eda8e",
            "_dom_classes": [],
            "description": "",
            "_model_name": "HTMLModel",
            "placeholder": "​",
            "_view_module": "@jupyter-widgets/controls",
            "_model_module_version": "1.5.0",
            "value": "100%",
            "_view_count": null,
            "_view_module_version": "1.5.0",
            "description_tooltip": null,
            "_model_module": "@jupyter-widgets/controls",
            "layout": "IPY_MODEL_6b8f158d69054b99959cc271edfff3e5"
          }
        },
        "c145dc89c48941f8bb679a06584742d4": {
          "model_module": "@jupyter-widgets/controls",
          "model_name": "FloatProgressModel",
          "model_module_version": "1.5.0",
          "state": {
            "_view_name": "ProgressView",
            "style": "IPY_MODEL_5304e89953524bfcbdf8d64716f26fb3",
            "_dom_classes": [],
            "description": "",
            "_model_name": "FloatProgressModel",
            "bar_style": "success",
            "max": 1101,
            "_view_module": "@jupyter-widgets/controls",
            "_model_module_version": "1.5.0",
            "value": 1101,
            "_view_count": null,
            "_view_module_version": "1.5.0",
            "orientation": "horizontal",
            "min": 0,
            "description_tooltip": null,
            "_model_module": "@jupyter-widgets/controls",
            "layout": "IPY_MODEL_088b4a2f8b114b27a840457acc20fb35"
          }
        },
        "6eb29844891b411f9b3960bbe3f5be4d": {
          "model_module": "@jupyter-widgets/controls",
          "model_name": "HTMLModel",
          "model_module_version": "1.5.0",
          "state": {
            "_view_name": "HTMLView",
            "style": "IPY_MODEL_1b427914ad4d4ababd3b2f6b3e139e0f",
            "_dom_classes": [],
            "description": "",
            "_model_name": "HTMLModel",
            "placeholder": "​",
            "_view_module": "@jupyter-widgets/controls",
            "_model_module_version": "1.5.0",
            "value": " 1101/1101 [00:02&lt;00:00, 505.20it/s]",
            "_view_count": null,
            "_view_module_version": "1.5.0",
            "description_tooltip": null,
            "_model_module": "@jupyter-widgets/controls",
            "layout": "IPY_MODEL_4a70b529f44e40c7b33217f29193611b"
          }
        },
        "22ce470883f04450835b159fbe7eda8e": {
          "model_module": "@jupyter-widgets/controls",
          "model_name": "DescriptionStyleModel",
          "model_module_version": "1.5.0",
          "state": {
            "_view_name": "StyleView",
            "_model_name": "DescriptionStyleModel",
            "description_width": "",
            "_view_module": "@jupyter-widgets/base",
            "_model_module_version": "1.5.0",
            "_view_count": null,
            "_view_module_version": "1.2.0",
            "_model_module": "@jupyter-widgets/controls"
          }
        },
        "6b8f158d69054b99959cc271edfff3e5": {
          "model_module": "@jupyter-widgets/base",
          "model_name": "LayoutModel",
          "model_module_version": "1.2.0",
          "state": {
            "_view_name": "LayoutView",
            "grid_template_rows": null,
            "right": null,
            "justify_content": null,
            "_view_module": "@jupyter-widgets/base",
            "overflow": null,
            "_model_module_version": "1.2.0",
            "_view_count": null,
            "flex_flow": null,
            "width": null,
            "min_width": null,
            "border": null,
            "align_items": null,
            "bottom": null,
            "_model_module": "@jupyter-widgets/base",
            "top": null,
            "grid_column": null,
            "overflow_y": null,
            "overflow_x": null,
            "grid_auto_flow": null,
            "grid_area": null,
            "grid_template_columns": null,
            "flex": null,
            "_model_name": "LayoutModel",
            "justify_items": null,
            "grid_row": null,
            "max_height": null,
            "align_content": null,
            "visibility": null,
            "align_self": null,
            "height": null,
            "min_height": null,
            "padding": null,
            "grid_auto_rows": null,
            "grid_gap": null,
            "max_width": null,
            "order": null,
            "_view_module_version": "1.2.0",
            "grid_template_areas": null,
            "object_position": null,
            "object_fit": null,
            "grid_auto_columns": null,
            "margin": null,
            "display": null,
            "left": null
          }
        },
        "5304e89953524bfcbdf8d64716f26fb3": {
          "model_module": "@jupyter-widgets/controls",
          "model_name": "ProgressStyleModel",
          "model_module_version": "1.5.0",
          "state": {
            "_view_name": "StyleView",
            "_model_name": "ProgressStyleModel",
            "description_width": "",
            "_view_module": "@jupyter-widgets/base",
            "_model_module_version": "1.5.0",
            "_view_count": null,
            "_view_module_version": "1.2.0",
            "bar_color": null,
            "_model_module": "@jupyter-widgets/controls"
          }
        },
        "088b4a2f8b114b27a840457acc20fb35": {
          "model_module": "@jupyter-widgets/base",
          "model_name": "LayoutModel",
          "model_module_version": "1.2.0",
          "state": {
            "_view_name": "LayoutView",
            "grid_template_rows": null,
            "right": null,
            "justify_content": null,
            "_view_module": "@jupyter-widgets/base",
            "overflow": null,
            "_model_module_version": "1.2.0",
            "_view_count": null,
            "flex_flow": null,
            "width": null,
            "min_width": null,
            "border": null,
            "align_items": null,
            "bottom": null,
            "_model_module": "@jupyter-widgets/base",
            "top": null,
            "grid_column": null,
            "overflow_y": null,
            "overflow_x": null,
            "grid_auto_flow": null,
            "grid_area": null,
            "grid_template_columns": null,
            "flex": null,
            "_model_name": "LayoutModel",
            "justify_items": null,
            "grid_row": null,
            "max_height": null,
            "align_content": null,
            "visibility": null,
            "align_self": null,
            "height": null,
            "min_height": null,
            "padding": null,
            "grid_auto_rows": null,
            "grid_gap": null,
            "max_width": null,
            "order": null,
            "_view_module_version": "1.2.0",
            "grid_template_areas": null,
            "object_position": null,
            "object_fit": null,
            "grid_auto_columns": null,
            "margin": null,
            "display": null,
            "left": null
          }
        },
        "1b427914ad4d4ababd3b2f6b3e139e0f": {
          "model_module": "@jupyter-widgets/controls",
          "model_name": "DescriptionStyleModel",
          "model_module_version": "1.5.0",
          "state": {
            "_view_name": "StyleView",
            "_model_name": "DescriptionStyleModel",
            "description_width": "",
            "_view_module": "@jupyter-widgets/base",
            "_model_module_version": "1.5.0",
            "_view_count": null,
            "_view_module_version": "1.2.0",
            "_model_module": "@jupyter-widgets/controls"
          }
        },
        "4a70b529f44e40c7b33217f29193611b": {
          "model_module": "@jupyter-widgets/base",
          "model_name": "LayoutModel",
          "model_module_version": "1.2.0",
          "state": {
            "_view_name": "LayoutView",
            "grid_template_rows": null,
            "right": null,
            "justify_content": null,
            "_view_module": "@jupyter-widgets/base",
            "overflow": null,
            "_model_module_version": "1.2.0",
            "_view_count": null,
            "flex_flow": null,
            "width": null,
            "min_width": null,
            "border": null,
            "align_items": null,
            "bottom": null,
            "_model_module": "@jupyter-widgets/base",
            "top": null,
            "grid_column": null,
            "overflow_y": null,
            "overflow_x": null,
            "grid_auto_flow": null,
            "grid_area": null,
            "grid_template_columns": null,
            "flex": null,
            "_model_name": "LayoutModel",
            "justify_items": null,
            "grid_row": null,
            "max_height": null,
            "align_content": null,
            "visibility": null,
            "align_self": null,
            "height": null,
            "min_height": null,
            "padding": null,
            "grid_auto_rows": null,
            "grid_gap": null,
            "max_width": null,
            "order": null,
            "_view_module_version": "1.2.0",
            "grid_template_areas": null,
            "object_position": null,
            "object_fit": null,
            "grid_auto_columns": null,
            "margin": null,
            "display": null,
            "left": null
          }
        },
        "a58c4c0708674d0a93a675d568023134": {
          "model_module": "@jupyter-widgets/controls",
          "model_name": "HBoxModel",
          "model_module_version": "1.5.0",
          "state": {
            "_view_name": "HBoxView",
            "_dom_classes": [],
            "_model_name": "HBoxModel",
            "_view_module": "@jupyter-widgets/controls",
            "_model_module_version": "1.5.0",
            "_view_count": null,
            "_view_module_version": "1.5.0",
            "box_style": "",
            "layout": "IPY_MODEL_04d7848769594504a5e91b0317335ce4",
            "_model_module": "@jupyter-widgets/controls",
            "children": [
              "IPY_MODEL_23141a0e2a1643a59908c3ed8c1822f0",
              "IPY_MODEL_e1e1b6fea7a14ae2ab7d2dc0d3b12b79",
              "IPY_MODEL_181e74e8166c4178a59c5a1e7a140bb1"
            ]
          }
        },
        "04d7848769594504a5e91b0317335ce4": {
          "model_module": "@jupyter-widgets/base",
          "model_name": "LayoutModel",
          "model_module_version": "1.2.0",
          "state": {
            "_view_name": "LayoutView",
            "grid_template_rows": null,
            "right": null,
            "justify_content": null,
            "_view_module": "@jupyter-widgets/base",
            "overflow": null,
            "_model_module_version": "1.2.0",
            "_view_count": null,
            "flex_flow": null,
            "width": null,
            "min_width": null,
            "border": null,
            "align_items": null,
            "bottom": null,
            "_model_module": "@jupyter-widgets/base",
            "top": null,
            "grid_column": null,
            "overflow_y": null,
            "overflow_x": null,
            "grid_auto_flow": null,
            "grid_area": null,
            "grid_template_columns": null,
            "flex": null,
            "_model_name": "LayoutModel",
            "justify_items": null,
            "grid_row": null,
            "max_height": null,
            "align_content": null,
            "visibility": null,
            "align_self": null,
            "height": null,
            "min_height": null,
            "padding": null,
            "grid_auto_rows": null,
            "grid_gap": null,
            "max_width": null,
            "order": null,
            "_view_module_version": "1.2.0",
            "grid_template_areas": null,
            "object_position": null,
            "object_fit": null,
            "grid_auto_columns": null,
            "margin": null,
            "display": null,
            "left": null
          }
        },
        "23141a0e2a1643a59908c3ed8c1822f0": {
          "model_module": "@jupyter-widgets/controls",
          "model_name": "HTMLModel",
          "model_module_version": "1.5.0",
          "state": {
            "_view_name": "HTMLView",
            "style": "IPY_MODEL_39c867552b1d42caa3eb1c05db655ecb",
            "_dom_classes": [],
            "description": "",
            "_model_name": "HTMLModel",
            "placeholder": "​",
            "_view_module": "@jupyter-widgets/controls",
            "_model_module_version": "1.5.0",
            "value": "100%",
            "_view_count": null,
            "_view_module_version": "1.5.0",
            "description_tooltip": null,
            "_model_module": "@jupyter-widgets/controls",
            "layout": "IPY_MODEL_46c063a104774b4ba052aa4a37d09a91"
          }
        },
        "e1e1b6fea7a14ae2ab7d2dc0d3b12b79": {
          "model_module": "@jupyter-widgets/controls",
          "model_name": "FloatProgressModel",
          "model_module_version": "1.5.0",
          "state": {
            "_view_name": "ProgressView",
            "style": "IPY_MODEL_c9da1bbd690d4b1ebc83c4eca00c449a",
            "_dom_classes": [],
            "description": "",
            "_model_name": "FloatProgressModel",
            "bar_style": "success",
            "max": 101,
            "_view_module": "@jupyter-widgets/controls",
            "_model_module_version": "1.5.0",
            "value": 101,
            "_view_count": null,
            "_view_module_version": "1.5.0",
            "orientation": "horizontal",
            "min": 0,
            "description_tooltip": null,
            "_model_module": "@jupyter-widgets/controls",
            "layout": "IPY_MODEL_d188867548e64d2a86a4a5641f90b6da"
          }
        },
        "181e74e8166c4178a59c5a1e7a140bb1": {
          "model_module": "@jupyter-widgets/controls",
          "model_name": "HTMLModel",
          "model_module_version": "1.5.0",
          "state": {
            "_view_name": "HTMLView",
            "style": "IPY_MODEL_34145cc13a8244d28d5b39b3d27e03f0",
            "_dom_classes": [],
            "description": "",
            "_model_name": "HTMLModel",
            "placeholder": "​",
            "_view_module": "@jupyter-widgets/controls",
            "_model_module_version": "1.5.0",
            "value": " 101/101 [00:13&lt;00:00,  8.47it/s]",
            "_view_count": null,
            "_view_module_version": "1.5.0",
            "description_tooltip": null,
            "_model_module": "@jupyter-widgets/controls",
            "layout": "IPY_MODEL_80965133297846168c834b1bb6bcbdc4"
          }
        },
        "39c867552b1d42caa3eb1c05db655ecb": {
          "model_module": "@jupyter-widgets/controls",
          "model_name": "DescriptionStyleModel",
          "model_module_version": "1.5.0",
          "state": {
            "_view_name": "StyleView",
            "_model_name": "DescriptionStyleModel",
            "description_width": "",
            "_view_module": "@jupyter-widgets/base",
            "_model_module_version": "1.5.0",
            "_view_count": null,
            "_view_module_version": "1.2.0",
            "_model_module": "@jupyter-widgets/controls"
          }
        },
        "46c063a104774b4ba052aa4a37d09a91": {
          "model_module": "@jupyter-widgets/base",
          "model_name": "LayoutModel",
          "model_module_version": "1.2.0",
          "state": {
            "_view_name": "LayoutView",
            "grid_template_rows": null,
            "right": null,
            "justify_content": null,
            "_view_module": "@jupyter-widgets/base",
            "overflow": null,
            "_model_module_version": "1.2.0",
            "_view_count": null,
            "flex_flow": null,
            "width": null,
            "min_width": null,
            "border": null,
            "align_items": null,
            "bottom": null,
            "_model_module": "@jupyter-widgets/base",
            "top": null,
            "grid_column": null,
            "overflow_y": null,
            "overflow_x": null,
            "grid_auto_flow": null,
            "grid_area": null,
            "grid_template_columns": null,
            "flex": null,
            "_model_name": "LayoutModel",
            "justify_items": null,
            "grid_row": null,
            "max_height": null,
            "align_content": null,
            "visibility": null,
            "align_self": null,
            "height": null,
            "min_height": null,
            "padding": null,
            "grid_auto_rows": null,
            "grid_gap": null,
            "max_width": null,
            "order": null,
            "_view_module_version": "1.2.0",
            "grid_template_areas": null,
            "object_position": null,
            "object_fit": null,
            "grid_auto_columns": null,
            "margin": null,
            "display": null,
            "left": null
          }
        },
        "c9da1bbd690d4b1ebc83c4eca00c449a": {
          "model_module": "@jupyter-widgets/controls",
          "model_name": "ProgressStyleModel",
          "model_module_version": "1.5.0",
          "state": {
            "_view_name": "StyleView",
            "_model_name": "ProgressStyleModel",
            "description_width": "",
            "_view_module": "@jupyter-widgets/base",
            "_model_module_version": "1.5.0",
            "_view_count": null,
            "_view_module_version": "1.2.0",
            "bar_color": null,
            "_model_module": "@jupyter-widgets/controls"
          }
        },
        "d188867548e64d2a86a4a5641f90b6da": {
          "model_module": "@jupyter-widgets/base",
          "model_name": "LayoutModel",
          "model_module_version": "1.2.0",
          "state": {
            "_view_name": "LayoutView",
            "grid_template_rows": null,
            "right": null,
            "justify_content": null,
            "_view_module": "@jupyter-widgets/base",
            "overflow": null,
            "_model_module_version": "1.2.0",
            "_view_count": null,
            "flex_flow": null,
            "width": null,
            "min_width": null,
            "border": null,
            "align_items": null,
            "bottom": null,
            "_model_module": "@jupyter-widgets/base",
            "top": null,
            "grid_column": null,
            "overflow_y": null,
            "overflow_x": null,
            "grid_auto_flow": null,
            "grid_area": null,
            "grid_template_columns": null,
            "flex": null,
            "_model_name": "LayoutModel",
            "justify_items": null,
            "grid_row": null,
            "max_height": null,
            "align_content": null,
            "visibility": null,
            "align_self": null,
            "height": null,
            "min_height": null,
            "padding": null,
            "grid_auto_rows": null,
            "grid_gap": null,
            "max_width": null,
            "order": null,
            "_view_module_version": "1.2.0",
            "grid_template_areas": null,
            "object_position": null,
            "object_fit": null,
            "grid_auto_columns": null,
            "margin": null,
            "display": null,
            "left": null
          }
        },
        "34145cc13a8244d28d5b39b3d27e03f0": {
          "model_module": "@jupyter-widgets/controls",
          "model_name": "DescriptionStyleModel",
          "model_module_version": "1.5.0",
          "state": {
            "_view_name": "StyleView",
            "_model_name": "DescriptionStyleModel",
            "description_width": "",
            "_view_module": "@jupyter-widgets/base",
            "_model_module_version": "1.5.0",
            "_view_count": null,
            "_view_module_version": "1.2.0",
            "_model_module": "@jupyter-widgets/controls"
          }
        },
        "80965133297846168c834b1bb6bcbdc4": {
          "model_module": "@jupyter-widgets/base",
          "model_name": "LayoutModel",
          "model_module_version": "1.2.0",
          "state": {
            "_view_name": "LayoutView",
            "grid_template_rows": null,
            "right": null,
            "justify_content": null,
            "_view_module": "@jupyter-widgets/base",
            "overflow": null,
            "_model_module_version": "1.2.0",
            "_view_count": null,
            "flex_flow": null,
            "width": null,
            "min_width": null,
            "border": null,
            "align_items": null,
            "bottom": null,
            "_model_module": "@jupyter-widgets/base",
            "top": null,
            "grid_column": null,
            "overflow_y": null,
            "overflow_x": null,
            "grid_auto_flow": null,
            "grid_area": null,
            "grid_template_columns": null,
            "flex": null,
            "_model_name": "LayoutModel",
            "justify_items": null,
            "grid_row": null,
            "max_height": null,
            "align_content": null,
            "visibility": null,
            "align_self": null,
            "height": null,
            "min_height": null,
            "padding": null,
            "grid_auto_rows": null,
            "grid_gap": null,
            "max_width": null,
            "order": null,
            "_view_module_version": "1.2.0",
            "grid_template_areas": null,
            "object_position": null,
            "object_fit": null,
            "grid_auto_columns": null,
            "margin": null,
            "display": null,
            "left": null
          }
        }
      }
    },
    "accelerator": "GPU"
  },
  "cells": [
    {
      "cell_type": "markdown",
      "metadata": {
        "id": "AHHX3-vI0n16"
      },
      "source": [
        "# Semantic Segmentation using InceptionRestnetV2 and UNET"
      ]
    },
    {
      "cell_type": "markdown",
      "metadata": {
        "id": "yncULO-gzUWj"
      },
      "source": [
        "Mount Google Drive"
      ]
    },
    {
      "cell_type": "code",
      "metadata": {
        "colab": {
          "base_uri": "https://localhost:8080/"
        },
        "id": "a44U86p3YJRG",
        "outputId": "98b153e9-052e-4f2f-91d5-882fea7850a6"
      },
      "source": [
        "from google.colab import drive\n",
        "drive.mount('/content/gdrive')\n"
      ],
      "execution_count": 11,
      "outputs": [
        {
          "output_type": "stream",
          "name": "stdout",
          "text": [
            "Drive already mounted at /content/gdrive; to attempt to forcibly remount, call drive.mount(\"/content/gdrive\", force_remount=True).\n"
          ]
        }
      ]
    },
    {
      "cell_type": "markdown",
      "metadata": {
        "id": "kcxxDMSj1JrC"
      },
      "source": [
        "Import Libraries"
      ]
    },
    {
      "cell_type": "code",
      "metadata": {
        "id": "n8w57KxtYK_v"
      },
      "source": [
        "## Libraries\n",
        "\n",
        "import os\n",
        "import numpy as np\n",
        "import random\n",
        "import cv2\n",
        "from tqdm.notebook import tqdm\n",
        "import tensorflow\n",
        "from glob import glob\n",
        "import io\n",
        "\n",
        "from keras import backend as K\n",
        "from skimage.transform import resize\n",
        "import matplotlib.pyplot as plt\n",
        "from PIL import Image\n",
        "from sklearn.model_selection import train_test_split\n",
        "from keras.preprocessing.image import load_img, ImageDataGenerator\n",
        "from tensorflow.keras.optimizers import Adam\n",
        "from keras import Model\n",
        "from keras.callbacks import EarlyStopping, ReduceLROnPlateau, ModelCheckpoint\n",
        "from keras.layers import Conv2D, BatchNormalization, Activation, MaxPooling2D, Conv2DTranspose, \\\n",
        "                         concatenate, Input, Dropout\n",
        "from tensorflow.keras.preprocessing.image import img_to_array, array_to_img\n",
        "from albumentations import CenterCrop, RandomRotate90, GridDistortion, HorizontalFlip, VerticalFlip, RandomBrightnessContrast"
      ],
      "execution_count": 12,
      "outputs": []
    },
    {
      "cell_type": "markdown",
      "metadata": {
        "id": "7PBsBKeZYarw"
      },
      "source": [
        "### (Zipped) Dataset upload using Drive\n",
        "https://towardsdatascience.com/how-to-successfully-add-large-data-sets-to-google-drive-130beb320f1a\n",
        "\n",
        "\n",
        "\n",
        "*   Create a shortcut in MyDrive from Sharedwithme folder in Google Drive\n",
        "\n"
      ]
    },
    {
      "cell_type": "code",
      "metadata": {
        "colab": {
          "base_uri": "https://localhost:8080/"
        },
        "id": "9DKQ9XEqYlwM",
        "outputId": "a0c22193-c66c-4ea9-de4b-0d59f39a554e"
      },
      "source": [
        "!unzip gdrive/My\\ Drive/A3_Dataset.zip"
      ],
      "execution_count": 13,
      "outputs": [
        {
          "output_type": "stream",
          "name": "stdout",
          "text": [
            "Archive:  gdrive/My Drive/A3_Dataset.zip\n",
            "replace A3_Dataset/dataset1/annotations_prepped_test/0016E5_07959.png? [y]es, [n]o, [A]ll, [N]one, [r]ename: N\n"
          ]
        }
      ]
    },
    {
      "cell_type": "markdown",
      "metadata": {
        "id": "KBpSOcxUzd8F"
      },
      "source": [
        "### Display Original Image and Ground Truth Segmented Mask"
      ]
    },
    {
      "cell_type": "code",
      "metadata": {
        "colab": {
          "base_uri": "https://localhost:8080/",
          "height": 286
        },
        "id": "1oxxQmwOnds5",
        "outputId": "6f1ddfad-5ae8-4b96-8764-50a105db64ef"
      },
      "source": [
        "im=cv2.imread(\"/content/A3_Dataset/dataset1/annotations_prepped_test/0016E5_07959.png\")\n",
        "print(im.shape)\n",
        "imgplot = plt.imshow(im)\n",
        "plt.savefig(\"annotations_prepped_test.png\")"
      ],
      "execution_count": 15,
      "outputs": [
        {
          "output_type": "stream",
          "name": "stdout",
          "text": [
            "(360, 480, 3)\n"
          ]
        },
        {
          "output_type": "display_data",
          "data": {
            "image/png": "[encoded data removed]",
            "text/plain": [
              "<Figure size 432x288 with 1 Axes>"
            ]
          },
          "metadata": {
            "needs_background": "light"
          }
        }
      ]
    },
    {
      "cell_type": "code",
      "metadata": {
        "colab": {
          "base_uri": "https://localhost:8080/",
          "height": 286
        },
        "id": "LYUO--By7sAR",
        "outputId": "d309a070-a4f0-491f-eefb-4200a23ec4ce"
      },
      "source": [
        "im=cv2.imread(\"/content/A3_Dataset/dataset1/images_prepped_test/0016E5_07959.png\")\n",
        "print(im.shape)\n",
        "imgplot = plt.imshow(im)\n",
        "plt.savefig(\"images_prepped_test.png\")"
      ],
      "execution_count": 16,
      "outputs": [
        {
          "output_type": "stream",
          "name": "stdout",
          "text": [
            "(360, 480, 3)\n"
          ]
        },
        {
          "output_type": "display_data",
          "data": {
            "image/png": "[encoded data removed]",
            "text/plain": [
              "<Figure size 432x288 with 1 Axes>"
            ]
          },
          "metadata": {
            "needs_background": "light"
          }
        }
      ]
    },
    {
      "cell_type": "markdown",
      "metadata": {
        "id": "NXhGk25V1RBo"
      },
      "source": [
        "# Load Dataset"
      ]
    },
    {
      "cell_type": "markdown",
      "metadata": {
        "id": "ipZZ1CTGziBl"
      },
      "source": [
        "## Data Augmentation\n",
        "https://github.com/nikhilroxtomar/Data-Augmentation-for-Semantic-Segmentation-Dataset"
      ]
    },
    {
      "cell_type": "code",
      "metadata": {
        "colab": {
          "base_uri": "https://localhost:8080/"
        },
        "id": "JamH4MgfSv9S",
        "outputId": "700b25fa-c5cb-4d43-c785-141150a16b06"
      },
      "source": [
        " def load_data(path):\n",
        "    images = sorted(glob(os.path.join(path, \"images_prepped_train/*\")))\n",
        "    masks = sorted(glob(os.path.join(path, \"annotations_prepped_train/*\")))\n",
        "    images_test = sorted(glob(os.path.join(path, \"images_prepped_test/*\")))\n",
        "    masks_test = sorted(glob(os.path.join(path, \"annotations_prepped_test/*\")))\n",
        "    return images, masks, images_test, masks_test\n",
        "    \n",
        "path = \"/content/A3_Dataset/dataset1/\"\n",
        "images, masks, images_test, masks_test = load_data(path)\n",
        "print(f\"Original Images: {len(images)} - Original Masks: {len(masks)}\")\n",
        "print(f\"Test Images: {len(images_test)} - Test Masks: {len(masks_test)}\")"
      ],
      "execution_count": 18,
      "outputs": [
        {
          "output_type": "stream",
          "name": "stdout",
          "text": [
            "Original Images: 367 - Original Masks: 367\n",
            "Test Images: 101 - Test Masks: 101\n"
          ]
        }
      ]
    },
    {
      "cell_type": "code",
      "metadata": {
        "id": "8frIVNMlRU7E"
      },
      "source": [
        "def create_dir(path):\n",
        "    if not os.path.exists(path):\n",
        "        os.makedirs(path)\n",
        "\n",
        "\"\"\" Creating folders. \"\"\"\n",
        "create_dir(\"new_data/images\")\n",
        "create_dir(\"new_data/masks\")"
      ],
      "execution_count": 19,
      "outputs": []
    },
    {
      "cell_type": "code",
      "metadata": {
        "colab": {
          "base_uri": "https://localhost:8080/",
          "height": 49,
          "referenced_widgets": [
            "089a344b2386406281275117b80d99ce",
            "881e2c4252e1498c883fbed3adb2b569",
            "5778417670714a19b965d0e70de2313c",
            "45998513c2c245cd806e37c0a99dc4bd",
            "0c95916fccad4710a18297527f50d87f",
            "2ac4c69669554df0af2df2f6bed7e939",
            "d233b49514384ab28af268ce432dec65",
            "d15c2276546748ca8065f191d28daaab",
            "5699a61dd54e449eb63e823712790e3a",
            "59859500d93c44daa0305acb8925ca73",
            "4ca8b9ab64324804b647d980228f7672"
          ]
        },
        "id": "3RBysGQ1R1aZ",
        "outputId": "88aa4c4c-eb7d-45e3-8d6f-4ba809e2ec3e"
      },
      "source": [
        "def augment_data(images, masks, save_path, augment=True):\n",
        "    H = 128\n",
        "    W = 128\n",
        "\n",
        "    for x, y in tqdm(zip(images, masks), total=len(images)):\n",
        "        name = x.split(\"/\")[-1].split(\".\")\n",
        "        \"\"\" Extracting the name and extension of the image and the mask. \"\"\"\n",
        "        image_name = name[0]\n",
        "        image_extn = name[1]\n",
        "\n",
        "        name = y.split(\"/\")[-1].split(\".\")\n",
        "        mask_name = name[0]\n",
        "        mask_extn = name[1]\n",
        "\n",
        "        \"\"\" Reading image and mask. \"\"\"\n",
        "        x = cv2.imread(x, cv2.IMREAD_COLOR)\n",
        "        y = cv2.imread(y, cv2.IMREAD_COLOR)\n",
        "\n",
        "        \"\"\" Augmentation \"\"\"\n",
        "        if augment == True:\n",
        "\n",
        "            aug = RandomRotate90(p=1.0)\n",
        "            augmented = aug(image=x, mask=y)\n",
        "            x = augmented['image']\n",
        "            y = augmented['mask']\n",
        "\n",
        "            aug = HorizontalFlip(p=1.0)\n",
        "            augmented = aug(image=x, mask=y)\n",
        "            x1 = augmented['image']\n",
        "            y1 = augmented['mask']\n",
        "\n",
        "\n",
        "            aug = RandomBrightnessContrast(p=0.2)\n",
        "            augmented = aug(image=x, mask=y)\n",
        "            x2 = augmented['image']\n",
        "            y2 = augmented['mask']\n",
        "\n",
        "\n",
        "            save_images = [x, x1, x2]\n",
        "            save_masks =  [y, y1, x2]\n",
        "\n",
        "        else:\n",
        "            save_images = [x]\n",
        "            save_masks = [y]\n",
        "\n",
        "        \"\"\" Saving the image and mask. \"\"\"\n",
        "        idx = 0\n",
        "        for i, m in zip(save_images, save_masks):\n",
        "            i = cv2.resize(i, (W, H))\n",
        "            m = cv2.resize(m, (W, H))\n",
        "\n",
        "            if len(images) == 1:\n",
        "                tmp_img_name = f\"{image_name}.{image_extn}\"\n",
        "                tmp_mask_name = f\"{mask_name}.{mask_extn}\"\n",
        "            else:\n",
        "                tmp_img_name = f\"{image_name}_{idx}.{image_extn}\"\n",
        "                tmp_mask_name = f\"{mask_name}_{idx}.{mask_extn}\"\n",
        "\n",
        "            image_path = os.path.join(save_path, \"images\", tmp_img_name)\n",
        "            mask_path = os.path.join(save_path, \"masks\", tmp_mask_name)\n",
        "\n",
        "            cv2.imwrite(image_path, i)\n",
        "            cv2.imwrite(mask_path, m)\n",
        "\n",
        "            idx += 1\n",
        "\n",
        "\n",
        "\"\"\" Applying data augmentation. \"\"\"\n",
        "augment_data(images, masks, \"new_data\", augment=True)"
      ],
      "execution_count": 20,
      "outputs": [
        {
          "output_type": "display_data",
          "data": {
            "application/vnd.jupyter.widget-view+json": {
              "model_id": "089a344b2386406281275117b80d99ce",
              "version_minor": 0,
              "version_major": 2
            },
            "text/plain": [
              "  0%|          | 0/367 [00:00<?, ?it/s]"
            ]
          },
          "metadata": {}
        }
      ]
    },
    {
      "cell_type": "code",
      "metadata": {
        "colab": {
          "base_uri": "https://localhost:8080/"
        },
        "id": "r6B8p3KUTl17",
        "outputId": "b757459a-8ea6-49df-cbb6-f55e5e85fcb4"
      },
      "source": [
        "def load_augmented_data(path):\n",
        "  images = sorted(glob(os.path.join(path, \"images/*\")))\n",
        "  masks = sorted(glob(os.path.join(path, \"masks/*\")))\n",
        "  return images, masks\n",
        "    \n",
        "\"\"\" Loading augmented images and masks. \"\"\"\n",
        "images, masks = load_augmented_data(\"new_data/\")\n",
        "print(f\"Augmented Images: {len(images)} - Augmented Masks: {len(masks)}\")\n"
      ],
      "execution_count": 21,
      "outputs": [
        {
          "output_type": "stream",
          "name": "stdout",
          "text": [
            "Augmented Images: 1101 - Augmented Masks: 1101\n"
          ]
        }
      ]
    },
    {
      "cell_type": "markdown",
      "metadata": {
        "id": "QVODqIgnzvNT"
      },
      "source": [
        "### Display Augmented Image and Mask"
      ]
    },
    {
      "cell_type": "code",
      "metadata": {
        "colab": {
          "base_uri": "https://localhost:8080/",
          "height": 285
        },
        "id": "dvxlpVFZwEaD",
        "outputId": "8a5bfe22-6878-445b-91ba-c2b89542d53c"
      },
      "source": [
        "im=cv2.imread(\"/content/new_data/images/0001TP_006690_0.png\")\n",
        "print(im.shape)\n",
        "imgplot = plt.imshow(im)\n",
        "plt.savefig(\"augmented_image.png\")"
      ],
      "execution_count": 22,
      "outputs": [
        {
          "output_type": "stream",
          "name": "stdout",
          "text": [
            "(128, 128, 3)\n"
          ]
        },
        {
          "output_type": "display_data",
          "data": {
            "image/png": "[encoded data removed]",
            "text/plain": [
              "<Figure size 432x288 with 1 Axes>"
            ]
          },
          "metadata": {
            "needs_background": "light"
          }
        }
      ]
    },
    {
      "cell_type": "code",
      "metadata": {
        "colab": {
          "base_uri": "https://localhost:8080/",
          "height": 285
        },
        "id": "5BAb6ozPwRUP",
        "outputId": "2d4d9664-9a9f-40a8-e883-630dd58e4d0a"
      },
      "source": [
        "im=cv2.imread(\"/content/new_data/masks/0001TP_006690_0.png\")\n",
        "print(im.shape)\n",
        "imgplot = plt.imshow(im)\n",
        "plt.savefig(\"augmented_mask.png\")"
      ],
      "execution_count": 23,
      "outputs": [
        {
          "output_type": "stream",
          "name": "stdout",
          "text": [
            "(128, 128, 3)\n"
          ]
        },
        {
          "output_type": "display_data",
          "data": {
            "image/png": "[encoded data removed]",
            "text/plain": [
              "<Figure size 432x288 with 1 Axes>"
            ]
          },
          "metadata": {
            "needs_background": "light"
          }
        }
      ]
    },
    {
      "cell_type": "markdown",
      "metadata": {
        "id": "_SnGAMEp1vLN"
      },
      "source": [
        "## Create Labelled Dataset"
      ]
    },
    {
      "cell_type": "markdown",
      "metadata": {
        "id": "HF8OiaAbqbGi"
      },
      "source": [
        "Train and Validation"
      ]
    },
    {
      "cell_type": "code",
      "metadata": {
        "id": "MkjkzSpDYb8P",
        "colab": {
          "base_uri": "https://localhost:8080/"
        },
        "outputId": "f8d81f3b-c137-4815-b5cf-9f4099131e04"
      },
      "source": [
        "IM_HEIGHT=128\n",
        "IM_WIDTH=128\n",
        "## Get empty numpy arrays TRAIN\n",
        "X = np.zeros((len(images), IM_HEIGHT, IM_WIDTH, 3), dtype=np.float32)\n",
        "y = np.zeros((len(masks), IM_HEIGHT, IM_WIDTH, 3), dtype=np.float32)\n",
        "\n",
        "## Get empty numpy arrays TEST\n",
        "X_label = np.zeros((len(images_test), IM_HEIGHT, IM_WIDTH, 3), dtype=np.float32)\n",
        "y_label = np.zeros((len(masks_test), IM_HEIGHT, IM_WIDTH, 3), dtype=np.float32)\n",
        "\n",
        "print(\"X\", X.shape)\n",
        "print(\"y\", y.shape)\n",
        "\n",
        "print(\"X_label\", X_label.shape)\n",
        "print(\"y_label\", y_label.shape)\n"
      ],
      "execution_count": 26,
      "outputs": [
        {
          "output_type": "stream",
          "name": "stdout",
          "text": [
            "X (1101, 128, 128, 3)\n",
            "y (1101, 128, 128, 3)\n",
            "X_label (101, 128, 128, 3)\n",
            "y_label (101, 128, 128, 3)\n"
          ]
        }
      ]
    },
    {
      "cell_type": "code",
      "metadata": {
        "id": "jyUFJdMkYbD7"
      },
      "source": [
        "\n",
        "def create_labelled_dataset():\n",
        "   \n",
        "    for n, ids in enumerate(tqdm(IMG_IDS)):        \n",
        "        img = load_img(os.path.join(DATA_IMAGES, ids))\n",
        "        x_img_arr = np.asarray((img))\n",
        "        \n",
        "        mask  = load_img(os.path.join(DATA_MASKS, ids))\n",
        "        y_mask_arr = np.asarray(mask)\n",
        "        X[n] = x_img_arr/255.0 \n",
        "        y[n] = y_mask_arr/255.0\n",
        "        \n",
        "    return X, y"
      ],
      "execution_count": 27,
      "outputs": []
    },
    {
      "cell_type": "code",
      "metadata": {
        "colab": {
          "base_uri": "https://localhost:8080/",
          "height": 49,
          "referenced_widgets": [
            "1ee97eb0400f43369f6b07ebf8e8b3ae",
            "290d2de72eb74750928b6e0ee0177bba",
            "ef5666cd849542e4b23cbe485c6cd3bd",
            "c145dc89c48941f8bb679a06584742d4",
            "6eb29844891b411f9b3960bbe3f5be4d",
            "22ce470883f04450835b159fbe7eda8e",
            "6b8f158d69054b99959cc271edfff3e5",
            "5304e89953524bfcbdf8d64716f26fb3",
            "088b4a2f8b114b27a840457acc20fb35",
            "1b427914ad4d4ababd3b2f6b3e139e0f",
            "4a70b529f44e40c7b33217f29193611b"
          ]
        },
        "id": "Tb0dV9oNYxk-",
        "outputId": "469c14f2-ec62-4039-a6b0-901b38b01f14"
      },
      "source": [
        "DATA_IMAGES='/content/new_data/images'\n",
        "DATA_MASKS='/content/new_data/masks'\n",
        "IMG_IDS = next(os.walk(DATA_IMAGES))[2]  # returns all the files in '/content/A3_Dataset/dataset1/images_prepped_train'\n",
        "\n",
        "X, y = create_labelled_dataset()\n"
      ],
      "execution_count": 28,
      "outputs": [
        {
          "output_type": "display_data",
          "data": {
            "application/vnd.jupyter.widget-view+json": {
              "model_id": "1ee97eb0400f43369f6b07ebf8e8b3ae",
              "version_minor": 0,
              "version_major": 2
            },
            "text/plain": [
              "  0%|          | 0/1101 [00:00<?, ?it/s]"
            ]
          },
          "metadata": {}
        }
      ]
    },
    {
      "cell_type": "code",
      "metadata": {
        "id": "p0ilfstgYzog"
      },
      "source": [
        "## Train and Validation set\n",
        "X_train, X_valid, y_train, y_valid = train_test_split(X, y, test_size=0.2)"
      ],
      "execution_count": 29,
      "outputs": []
    },
    {
      "cell_type": "markdown",
      "metadata": {
        "id": "_9vZWG38q4HT"
      },
      "source": [
        "### Preprocess the train and valid \"LABEL\""
      ]
    },
    {
      "cell_type": "code",
      "metadata": {
        "colab": {
          "base_uri": "https://localhost:8080/"
        },
        "id": "6sjZRA9LY09r",
        "outputId": "6a4d2872-39e0-4be1-b6a6-4a30ff28dae7"
      },
      "source": [
        "print(\"X_train\", X_train.shape)\n",
        "print(\"y_train\", y_train.shape)\n",
        "\n",
        "print(\"X_valid\", X_valid.shape)\n",
        "print(\"y_valid\", y_valid.shape)"
      ],
      "execution_count": 30,
      "outputs": [
        {
          "output_type": "stream",
          "name": "stdout",
          "text": [
            "X_train (880, 128, 128, 3)\n",
            "y_train (880, 128, 128, 3)\n",
            "X_valid (221, 128, 128, 3)\n",
            "y_valid (221, 128, 128, 3)\n"
          ]
        }
      ]
    },
    {
      "cell_type": "markdown",
      "metadata": {
        "id": "jBTN0I1U0Bvg"
      },
      "source": [
        "Convert the LABEL to categorical and take np.argmax"
      ]
    },
    {
      "cell_type": "code",
      "metadata": {
        "id": "s6T4Po4bJn9y"
      },
      "source": [
        "def convert_to_categorical(Y):\n",
        "  \n",
        "  Y = tensorflow.keras.utils.to_categorical(Y, num_classes=12)\n",
        "  return Y"
      ],
      "execution_count": 31,
      "outputs": []
    },
    {
      "cell_type": "code",
      "metadata": {
        "id": "OltWUZa3BHNu"
      },
      "source": [
        "y_train = convert_to_categorical(y_train)\n",
        "y_valid = convert_to_categorical(y_valid)\n"
      ],
      "execution_count": 32,
      "outputs": []
    },
    {
      "cell_type": "code",
      "metadata": {
        "colab": {
          "base_uri": "https://localhost:8080/"
        },
        "id": "guIT32dUA7lb",
        "outputId": "873c8e06-870c-4dab-c963-1fd77de0d529"
      },
      "source": [
        "  print(\"y_train\", y_train.shape)\n",
        "  print(\"y_valid\", y_valid.shape)"
      ],
      "execution_count": 33,
      "outputs": [
        {
          "output_type": "stream",
          "name": "stdout",
          "text": [
            "y_train (880, 128, 128, 3, 12)\n",
            "y_valid (221, 128, 128, 3, 12)\n"
          ]
        }
      ]
    },
    {
      "cell_type": "code",
      "metadata": {
        "id": "lLMOnQEykqGu"
      },
      "source": [
        "def categorical_to_argmax(Y):\n",
        "  \n",
        "  Y = np.argmax(Y, axis=3 )\n",
        "  return Y\n"
      ],
      "execution_count": 34,
      "outputs": []
    },
    {
      "cell_type": "code",
      "metadata": {
        "colab": {
          "base_uri": "https://localhost:8080/"
        },
        "id": "9u6tc0ZyBuuE",
        "outputId": "d7ffa463-8237-4f8b-8fc5-92e8189f5ef2"
      },
      "source": [
        "y_train = categorical_to_argmax(y_train)\n",
        "print(\"y_train\", y_train.shape)"
      ],
      "execution_count": 35,
      "outputs": [
        {
          "output_type": "stream",
          "name": "stdout",
          "text": [
            "y_train (880, 128, 128, 12)\n"
          ]
        }
      ]
    },
    {
      "cell_type": "code",
      "metadata": {
        "id": "wk7DD7lkmYwj",
        "colab": {
          "base_uri": "https://localhost:8080/"
        },
        "outputId": "fa806339-9467-4f88-edf3-a8f234dc2bd8"
      },
      "source": [
        "y_valid = categorical_to_argmax(y_valid)\n",
        "print(\"y_valid\", y_valid.shape)\n"
      ],
      "execution_count": 36,
      "outputs": [
        {
          "output_type": "stream",
          "name": "stdout",
          "text": [
            "y_valid (221, 128, 128, 12)\n"
          ]
        }
      ]
    },
    {
      "cell_type": "markdown",
      "metadata": {
        "id": "Ir3jKfzF0GE3"
      },
      "source": [
        "### Preprocess the test \"LABEL\""
      ]
    },
    {
      "cell_type": "code",
      "metadata": {
        "colab": {
          "base_uri": "https://localhost:8080/",
          "height": 49,
          "referenced_widgets": [
            "a58c4c0708674d0a93a675d568023134",
            "04d7848769594504a5e91b0317335ce4",
            "23141a0e2a1643a59908c3ed8c1822f0",
            "e1e1b6fea7a14ae2ab7d2dc0d3b12b79",
            "181e74e8166c4178a59c5a1e7a140bb1",
            "39c867552b1d42caa3eb1c05db655ecb",
            "46c063a104774b4ba052aa4a37d09a91",
            "c9da1bbd690d4b1ebc83c4eca00c449a",
            "d188867548e64d2a86a4a5641f90b6da",
            "34145cc13a8244d28d5b39b3d27e03f0",
            "80965133297846168c834b1bb6bcbdc4"
          ]
        },
        "id": "F9qxn2C3Cx23",
        "outputId": "4abf8d96-6765-43c1-d04f-4ab7a741e69e"
      },
      "source": [
        "LABEL_MASKS='/content/A3_Dataset/dataset1/annotations_prepped_test'\n",
        "LABEL_MASK_IDS = next(os.walk(LABEL_MASKS))[2]  # returns all the files in '/content/A3_Dataset/dataset1/images_prepped_train'\n",
        "LABEL_IMAGES='/content/A3_Dataset/dataset1/images_prepped_test'\n",
        "LABEL_IMG_IDS = next(os.walk(LABEL_IMAGES))[2]\n",
        "\n",
        "for n, ids in enumerate(tqdm(LABEL_IMG_IDS)):        \n",
        "        img = load_img(os.path.join(LABEL_IMAGES, ids))\n",
        "        x_img_arr = np.asarray((img))\n",
        "        x_img = resize(x_img_arr, (IM_HEIGHT, IM_WIDTH, 3), mode='constant', preserve_range=True)\n",
        "        \n",
        "        mask  = load_img(os.path.join(LABEL_MASKS, ids))\n",
        "        y_mask_arr = np.asarray(mask)\n",
        "        y_mask = resize(y_mask_arr, (IM_HEIGHT, IM_WIDTH, 3), mode='constant', preserve_range=True)\n",
        "        X_label[n] = x_img/255.0 \n",
        "        y_label[n] = y_mask/255.0"
      ],
      "execution_count": 37,
      "outputs": [
        {
          "output_type": "display_data",
          "data": {
            "application/vnd.jupyter.widget-view+json": {
              "model_id": "a58c4c0708674d0a93a675d568023134",
              "version_minor": 0,
              "version_major": 2
            },
            "text/plain": [
              "  0%|          | 0/101 [00:00<?, ?it/s]"
            ]
          },
          "metadata": {}
        }
      ]
    },
    {
      "cell_type": "code",
      "metadata": {
        "colab": {
          "base_uri": "https://localhost:8080/"
        },
        "id": "7X6AvSgGYqkm",
        "outputId": "54a4e065-9a5d-4f73-9b09-bf3655ba2d81"
      },
      "source": [
        "print(X_label.shape)\n",
        "print(y_label.shape)"
      ],
      "execution_count": 38,
      "outputs": [
        {
          "output_type": "stream",
          "name": "stdout",
          "text": [
            "(101, 128, 128, 3)\n",
            "(101, 128, 128, 3)\n"
          ]
        }
      ]
    },
    {
      "cell_type": "markdown",
      "metadata": {
        "id": "ywRC_EBarDCr"
      },
      "source": [
        "Convert the LABEL to categorical and take np.argmax"
      ]
    },
    {
      "cell_type": "code",
      "metadata": {
        "colab": {
          "base_uri": "https://localhost:8080/"
        },
        "id": "Q6-oRlSrYssE",
        "outputId": "8e2c8e70-2149-44a5-e9bc-f5c99b956929"
      },
      "source": [
        "#y_test lavel .to_categorical\n",
        "y_test = convert_to_categorical(y_label)\n",
        "print(y_test.shape)\n",
        "\n",
        "#argmax of ylabel\n",
        "y_test=categorical_to_argmax(y_test)\n",
        "print(y_test.shape)"
      ],
      "execution_count": 39,
      "outputs": [
        {
          "output_type": "stream",
          "name": "stdout",
          "text": [
            "(101, 128, 128, 3, 12)\n",
            "(101, 128, 128, 12)\n"
          ]
        }
      ]
    },
    {
      "cell_type": "markdown",
      "metadata": {
        "id": "coaR8-3314pc"
      },
      "source": [
        "# Create Model\n",
        "https://github.com/qubvel/segmentation_models"
      ]
    },
    {
      "cell_type": "code",
      "metadata": {
        "colab": {
          "base_uri": "https://localhost:8080/"
        },
        "id": "q4v0492NY-gz",
        "outputId": "245d0c90-c4c5-49f0-d770-a705cb298b17"
      },
      "source": [
        "! pip install -U segmentation-models"
      ],
      "execution_count": 40,
      "outputs": [
        {
          "output_type": "stream",
          "name": "stdout",
          "text": [
            "Collecting segmentation-models\n",
            "  Downloading segmentation_models-1.0.1-py3-none-any.whl (33 kB)\n",
            "Collecting efficientnet==1.0.0\n",
            "  Downloading efficientnet-1.0.0-py3-none-any.whl (17 kB)\n",
            "Collecting image-classifiers==1.0.0\n",
            "  Downloading image_classifiers-1.0.0-py3-none-any.whl (19 kB)\n",
            "Collecting keras-applications<=1.0.8,>=1.0.7\n",
            "  Downloading Keras_Applications-1.0.8-py3-none-any.whl (50 kB)\n",
            "\u001b[K     |████████████████████████████████| 50 kB 5.5 MB/s \n",
            "\u001b[?25hRequirement already satisfied: scikit-image in /usr/local/lib/python3.7/dist-packages (from efficientnet==1.0.0->segmentation-models) (0.18.3)\n",
            "Requirement already satisfied: numpy>=1.9.1 in /usr/local/lib/python3.7/dist-packages (from keras-applications<=1.0.8,>=1.0.7->segmentation-models) (1.19.5)\n",
            "Requirement already satisfied: h5py in /usr/local/lib/python3.7/dist-packages (from keras-applications<=1.0.8,>=1.0.7->segmentation-models) (3.1.0)\n",
            "Requirement already satisfied: cached-property in /usr/local/lib/python3.7/dist-packages (from h5py->keras-applications<=1.0.8,>=1.0.7->segmentation-models) (1.5.2)\n",
            "Requirement already satisfied: networkx>=2.0 in /usr/local/lib/python3.7/dist-packages (from scikit-image->efficientnet==1.0.0->segmentation-models) (2.6.3)\n",
            "Requirement already satisfied: scipy>=1.0.1 in /usr/local/lib/python3.7/dist-packages (from scikit-image->efficientnet==1.0.0->segmentation-models) (1.4.1)\n",
            "Requirement already satisfied: imageio>=2.3.0 in /usr/local/lib/python3.7/dist-packages (from scikit-image->efficientnet==1.0.0->segmentation-models) (2.4.1)\n",
            "Requirement already satisfied: pillow!=7.1.0,!=7.1.1,>=4.3.0 in /usr/local/lib/python3.7/dist-packages (from scikit-image->efficientnet==1.0.0->segmentation-models) (7.1.2)\n",
            "Requirement already satisfied: tifffile>=2019.7.26 in /usr/local/lib/python3.7/dist-packages (from scikit-image->efficientnet==1.0.0->segmentation-models) (2021.11.2)\n",
            "Requirement already satisfied: matplotlib!=3.0.0,>=2.0.0 in /usr/local/lib/python3.7/dist-packages (from scikit-image->efficientnet==1.0.0->segmentation-models) (3.2.2)\n",
            "Requirement already satisfied: PyWavelets>=1.1.1 in /usr/local/lib/python3.7/dist-packages (from scikit-image->efficientnet==1.0.0->segmentation-models) (1.2.0)\n",
            "Requirement already satisfied: python-dateutil>=2.1 in /usr/local/lib/python3.7/dist-packages (from matplotlib!=3.0.0,>=2.0.0->scikit-image->efficientnet==1.0.0->segmentation-models) (2.8.2)\n",
            "Requirement already satisfied: kiwisolver>=1.0.1 in /usr/local/lib/python3.7/dist-packages (from matplotlib!=3.0.0,>=2.0.0->scikit-image->efficientnet==1.0.0->segmentation-models) (1.3.2)\n",
            "Requirement already satisfied: cycler>=0.10 in /usr/local/lib/python3.7/dist-packages (from matplotlib!=3.0.0,>=2.0.0->scikit-image->efficientnet==1.0.0->segmentation-models) (0.11.0)\n",
            "Requirement already satisfied: pyparsing!=2.0.4,!=2.1.2,!=2.1.6,>=2.0.1 in /usr/local/lib/python3.7/dist-packages (from matplotlib!=3.0.0,>=2.0.0->scikit-image->efficientnet==1.0.0->segmentation-models) (3.0.6)\n",
            "Requirement already satisfied: six>=1.5 in /usr/local/lib/python3.7/dist-packages (from python-dateutil>=2.1->matplotlib!=3.0.0,>=2.0.0->scikit-image->efficientnet==1.0.0->segmentation-models) (1.15.0)\n",
            "Installing collected packages: keras-applications, image-classifiers, efficientnet, segmentation-models\n",
            "Successfully installed efficientnet-1.0.0 image-classifiers-1.0.0 keras-applications-1.0.8 segmentation-models-1.0.1\n"
          ]
        }
      ]
    },
    {
      "cell_type": "markdown",
      "metadata": {
        "id": "UTEyJsuD0Rz1"
      },
      "source": [
        "Dice Coef as metric"
      ]
    },
    {
      "cell_type": "code",
      "metadata": {
        "id": "4ffaPfbfDloM"
      },
      "source": [
        "def dice_coef(y_true, y_pred):\n",
        "    y_true_f = K.flatten(y_true)\n",
        "    y_pred_f = K.flatten(y_pred)\n",
        "    intersection = K.sum(y_true_f * y_pred_f)\n",
        "    return (2. * intersection + K.epsilon()) / (K.sum(y_true_f) + K.sum(y_pred_f) + K.epsilon())"
      ],
      "execution_count": 41,
      "outputs": []
    },
    {
      "cell_type": "code",
      "metadata": {
        "colab": {
          "base_uri": "https://localhost:8080/"
        },
        "id": "QTbgMR-pY_Ug",
        "outputId": "59401eaf-9f8c-4904-edbe-b67d430d76af"
      },
      "source": [
        "import segmentation_models as sm\n",
        "from tensorflow import keras\n",
        "import time\n",
        "keras.backend.set_image_data_format('channels_last')\n",
        "\n",
        "BACKBONE = 'inceptionresnetv2'\n",
        "\n",
        "\n",
        "# define model\n",
        "model = sm.Unet(BACKBONE, input_shape=(128, 128, 3), classes=12, activation='softmax', encoder_weights=None, encoder_freeze=True, decoder_use_batchnorm=False)\n",
        "\n",
        "\n",
        "model.compile(optimizer=tensorflow.keras.optimizers.Adam(learning_rate=0.001,amsgrad=True),\n",
        "                   loss=tensorflow.keras.losses.CategoricalCrossentropy(), metrics=[\"accuracy\",dice_coef, sm.metrics.precision,  sm.metrics.recall, sm.metrics.f1_score ])\n",
        "start_time = time.time()\n",
        "results = model.fit(X_train, y_train, batch_size=3,\n",
        "                         verbose=1, epochs=5, \n",
        "                         validation_data=(X_valid, y_valid))\n",
        "print(\"--- %s seconds ---\" % (time.time() - start_time))"
      ],
      "execution_count": 46,
      "outputs": [
        {
          "output_type": "stream",
          "name": "stdout",
          "text": [
            "Epoch 1/5\n",
            "294/294 [==============================] - 93s 243ms/step - loss: 3104264372839514112.0000 - accuracy: 0.5283 - dice_coef: 0.0083 - precision: 0.5138 - recall: 0.9311 - f1-score: 0.5141 - val_loss: 15662026367204065280.0000 - val_accuracy: 0.9633 - val_dice_coef: 0.0061 - val_precision: 0.8352 - val_recall: 0.9586 - val_f1-score: 0.8351\n",
            "Epoch 2/5\n",
            "294/294 [==============================] - 67s 228ms/step - loss: 42211812696832081920.0000 - accuracy: 0.9623 - dice_coef: 0.0066 - precision: 0.8357 - recall: 0.9495 - f1-score: 0.8357 - val_loss: 54525410542062927872.0000 - val_accuracy: 0.9633 - val_dice_coef: 0.0061 - val_precision: 0.8352 - val_recall: 0.9586 - val_f1-score: 0.8351\n",
            "Epoch 3/5\n",
            "294/294 [==============================] - 67s 229ms/step - loss: 71854223969207975936.0000 - accuracy: 0.9623 - dice_coef: 0.0066 - precision: 0.8357 - recall: 0.9502 - f1-score: 0.8357 - val_loss: 79217129972889026560.0000 - val_accuracy: 0.9632 - val_dice_coef: 0.0061 - val_precision: 0.8352 - val_recall: 0.9586 - val_f1-score: 0.8351\n",
            "Epoch 4/5\n",
            "294/294 [==============================] - 63s 214ms/step - loss: 90449107443551043584.0000 - accuracy: 0.9623 - dice_coef: 0.0066 - precision: 0.8357 - recall: 0.9519 - f1-score: 0.8357 - val_loss: 97502201856850395136.0000 - val_accuracy: 0.9632 - val_dice_coef: 0.0061 - val_precision: 0.8352 - val_recall: 0.9586 - val_f1-score: 0.8351\n",
            "Epoch 5/5\n",
            "294/294 [==============================] - 63s 214ms/step - loss: 107552705704955478016.0000 - accuracy: 0.9623 - dice_coef: 0.0066 - precision: 0.8357 - recall: 0.9507 - f1-score: 0.8357 - val_loss: 113491343928434098176.0000 - val_accuracy: 0.9632 - val_dice_coef: 0.0061 - val_precision: 0.8352 - val_recall: 0.9586 - val_f1-score: 0.8351\n",
            "--- 401.6434643268585 seconds ---\n"
          ]
        }
      ]
    },
    {
      "cell_type": "code",
      "metadata": {
        "id": "yAo2X6VDr5Dg"
      },
      "source": [
        "# from keras.utils.vis_utils import plot_model\n",
        "# plot_model(model, to_file='inceptionresnetv2.png')"
      ],
      "execution_count": null,
      "outputs": []
    },
    {
      "cell_type": "code",
      "metadata": {
        "id": "F5AgSv54B-t5"
      },
      "source": [
        "# model.summary()"
      ],
      "execution_count": null,
      "outputs": []
    },
    {
      "cell_type": "markdown",
      "metadata": {
        "id": "hA7Qehk7FyRw"
      },
      "source": [
        "Save the Model"
      ]
    },
    {
      "cell_type": "markdown",
      "metadata": {
        "id": "-e50R81m0XNZ"
      },
      "source": [
        "### Plot Accuracy and Loss Curves"
      ]
    },
    {
      "cell_type": "code",
      "metadata": {
        "colab": {
          "base_uri": "https://localhost:8080/",
          "height": 513
        },
        "id": "QblFfVF9ZExN",
        "outputId": "f255bf57-2aef-4f69-8efc-6c0900e57fdf"
      },
      "source": [
        "\n",
        "plt.figure(figsize=(8, 8))\n",
        "plt.title(\"Learning curve\")\n",
        "plt.plot(results.history[\"loss\"], label=\"loss\")\n",
        "plt.plot(results.history[\"val_loss\"], label=\"val_loss\")\n",
        "plt.plot( np.argmin(results.history[\"val_loss\"]), np.min(results.history[\"val_loss\"]), marker=\"x\", color=\"r\", label=\"best model\")\n",
        "plt.xlabel(\"Epochs\")\n",
        "plt.ylabel(\"log_loss\")\n",
        "plt.legend();\n",
        "plt.title('Loss Curve for InceptionRestnetv2')\n",
        "plt.savefig(\"Loss Curve InceptionRestnetv2.png\")\n",
        "plt.show()\n"
      ],
      "execution_count": 55,
      "outputs": [
        {
          "output_type": "display_data",
          "data": {
            "image/png": "[encoded data removed]",
            "text/plain": [
              "<Figure size 576x576 with 1 Axes>"
            ]
          },
          "metadata": {
            "needs_background": "light"
          }
        }
      ]
    },
    {
      "cell_type": "code",
      "metadata": {
        "colab": {
          "base_uri": "https://localhost:8080/",
          "height": 513
        },
        "id": "VEGcKJi7Z-rX",
        "outputId": "89fe5b55-99a2-4467-c691-993714049c2c"
      },
      "source": [
        "\n",
        "plt.figure(figsize=(8, 8))\n",
        "plt.title(\"Learning curve\")\n",
        "plt.plot(results.history[\"accuracy\"], label=\"accuracy\")\n",
        "plt.plot(results.history[\"val_accuracy\"], label=\"val_accuracy\")\n",
        "# plt.plot( np.argmax(results.history[\"val_accuracy\"]), np.max(results.history[\"val_accuracy\"]), marker=\"x\", color=\"r\", label=\"best model\")\n",
        "plt.xlabel(\"Epochs\")\n",
        "plt.ylabel(\"accuracy\")\n",
        "plt.legend();\n",
        "plt.title('Accuracy Curve for InceptionRestnetv2')\n",
        "plt.savefig(\"Accuracy Curve InceptionRestnetv2.png\")\n",
        "plt.show()\n"
      ],
      "execution_count": 56,
      "outputs": [
        {
          "output_type": "display_data",
          "data": {
            "image/png": "[encoded data removed]",
            "text/plain": [
              "<Figure size 576x576 with 1 Axes>"
            ]
          },
          "metadata": {
            "needs_background": "light"
          }
        }
      ]
    },
    {
      "cell_type": "markdown",
      "metadata": {
        "id": "p8TgYFA60Z5i"
      },
      "source": [
        "# Evaluate the Model"
      ]
    },
    {
      "cell_type": "code",
      "metadata": {
        "colab": {
          "base_uri": "https://localhost:8080/"
        },
        "id": "mS5uU4zOZPli",
        "outputId": "cfec2150-7da9-4714-8d54-3ddfb1ceaff2"
      },
      "source": [
        "model.evaluate(X_label, y_test)\n",
        "start_time = time.time()\n",
        "print(\"--- %s seconds ---\" % (time.time() - start_time))"
      ],
      "execution_count": 60,
      "outputs": [
        {
          "output_type": "stream",
          "name": "stdout",
          "text": [
            "4/4 [==============================] - 1s 244ms/step - loss: 0.0000e+00 - accuracy: 0.9737 - dice_coef: 4.4823e-13 - precision: 0.8333 - recall: 1.0000 - f1-score: 0.8333\n",
            "--- 0.00011324882507324219 seconds ---\n"
          ]
        }
      ]
    },
    {
      "cell_type": "markdown",
      "metadata": {
        "id": "M0iS8WYH0c9M"
      },
      "source": [
        "### Display the Predictions"
      ]
    },
    {
      "cell_type": "code",
      "metadata": {
        "id": "FUQi4nn4uX8i"
      },
      "source": [
        "from IPython.display import Image, display\n",
        "from tensorflow.keras.preprocessing.image import load_img\n",
        "import PIL\n",
        "from PIL import ImageOps\n",
        "\n",
        "\n",
        "val_preds = model.predict(X_valid[:100,...])\n",
        "\n"
      ],
      "execution_count": 59,
      "outputs": []
    },
    {
      "cell_type": "code",
      "metadata": {
        "colab": {
          "base_uri": "https://localhost:8080/",
          "height": 453
        },
        "id": "vObyxrrlw_aa",
        "outputId": "faa2c0b1-0266-4f87-f391-85e3f48b4d85"
      },
      "source": [
        "\n",
        "def display_mask_prediction(i):\n",
        "    \"\"\"Quick utility to display a model's prediction.\"\"\"\n",
        "    mask = np.argmax(val_preds[i], axis=-1)\n",
        "    mask = np.expand_dims(mask, axis=-1)\n",
        "    img = PIL.ImageOps.autocontrast(keras.preprocessing.image.array_to_img(mask))\n",
        "    display(img)\n",
        "\n",
        "def display_mask(i):\n",
        "    \"\"\"Quick utility to display a model's prediction.\"\"\"\n",
        "    mask = np.argmax(y_valid[i], axis=-1)\n",
        "    mask = np.expand_dims(mask, axis=-1)\n",
        "    img = PIL.ImageOps.autocontrast(keras.preprocessing.image.array_to_img(mask))\n",
        "    display(img)\n",
        "\n",
        "# Display results for validation image #10\n",
        "i = 52\n",
        "\n",
        "# Display input image\n",
        "img = PIL.ImageOps.autocontrast(keras.preprocessing.image.array_to_img(X_valid[i]))\n",
        "print(\"Input Image\")\n",
        "display(img)\n",
        "\n",
        "\n",
        "# Display ground-truth target mask\n",
        "print(\"ground-truth target mask\")\n",
        "display_mask(i)\n",
        "\n",
        "# Display mask predicted by our model\n",
        "print(\"mask predicted by our model\")\n",
        "display_mask_prediction(i)"
      ],
      "execution_count": 64,
      "outputs": [
        {
          "output_type": "stream",
          "name": "stdout",
          "text": [
            "Input Image\n"
          ]
        },
        {
          "output_type": "display_data",
          "data": {
            "image/png": "[encoded data removed]",
            "text/plain": [
              "<PIL.Image.Image image mode=RGB size=128x128 at 0x7F6BD64B2510>"
            ]
          },
          "metadata": {}
        },
        {
          "output_type": "stream",
          "name": "stdout",
          "text": [
            "ground-truth target mask\n"
          ]
        },
        {
          "output_type": "display_data",
          "data": {
            "image/png": "[encoded data removed]",
            "text/plain": [
              "<PIL.Image.Image image mode=L size=128x128 at 0x7F6BD64B2990>"
            ]
          },
          "metadata": {}
        },
        {
          "output_type": "stream",
          "name": "stdout",
          "text": [
            "mask predicted by our model\n"
          ]
        },
        {
          "output_type": "display_data",
          "data": {
            "image/png": "[encoded data removed]",
            "text/plain": [
              "<PIL.Image.Image image mode=L size=128x128 at 0x7F6BD64B2B50>"
            ]
          },
          "metadata": {}
        }
      ]
    }
  ]
}