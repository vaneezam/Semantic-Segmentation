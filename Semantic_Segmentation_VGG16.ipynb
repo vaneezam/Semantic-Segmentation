{
  "nbformat": 4,
  "nbformat_minor": 0,
  "metadata": {
    "colab": {
      "name": "Semantic Segmentation VGG16.ipynb",
      "provenance": [],
      "collapsed_sections": []
    },
    "kernelspec": {
      "name": "python3",
      "display_name": "Python 3"
    },
    "language_info": {
      "name": "python"
    },
    "widgets": {
      "application/vnd.jupyter.widget-state+json": {
        "c7e199a209a24938b1ae69c9df953cad": {
          "model_module": "@jupyter-widgets/controls",
          "model_name": "HBoxModel",
          "model_module_version": "1.5.0",
          "state": {
            "_view_name": "HBoxView",
            "_dom_classes": [],
            "_model_name": "HBoxModel",
            "_view_module": "@jupyter-widgets/controls",
            "_model_module_version": "1.5.0",
            "_view_count": null,
            "_view_module_version": "1.5.0",
            "box_style": "",
            "layout": "IPY_MODEL_2de090198d014fb9a11eedea46ccab2d",
            "_model_module": "@jupyter-widgets/controls",
            "children": [
              "IPY_MODEL_7ec12272737848439df3a73e8e6d7f68",
              "IPY_MODEL_82dff7ebfa75486fb45815657b6a7e45",
              "IPY_MODEL_b90dac73f81f49ac88732b21d59f19ed"
            ]
          }
        },
        "2de090198d014fb9a11eedea46ccab2d": {
          "model_module": "@jupyter-widgets/base",
          "model_name": "LayoutModel",
          "model_module_version": "1.2.0",
          "state": {
            "_view_name": "LayoutView",
            "grid_template_rows": null,
            "right": null,
            "justify_content": null,
            "_view_module": "@jupyter-widgets/base",
            "overflow": null,
            "_model_module_version": "1.2.0",
            "_view_count": null,
            "flex_flow": null,
            "width": null,
            "min_width": null,
            "border": null,
            "align_items": null,
            "bottom": null,
            "_model_module": "@jupyter-widgets/base",
            "top": null,
            "grid_column": null,
            "overflow_y": null,
            "overflow_x": null,
            "grid_auto_flow": null,
            "grid_area": null,
            "grid_template_columns": null,
            "flex": null,
            "_model_name": "LayoutModel",
            "justify_items": null,
            "grid_row": null,
            "max_height": null,
            "align_content": null,
            "visibility": null,
            "align_self": null,
            "height": null,
            "min_height": null,
            "padding": null,
            "grid_auto_rows": null,
            "grid_gap": null,
            "max_width": null,
            "order": null,
            "_view_module_version": "1.2.0",
            "grid_template_areas": null,
            "object_position": null,
            "object_fit": null,
            "grid_auto_columns": null,
            "margin": null,
            "display": null,
            "left": null
          }
        },
        "7ec12272737848439df3a73e8e6d7f68": {
          "model_module": "@jupyter-widgets/controls",
          "model_name": "HTMLModel",
          "model_module_version": "1.5.0",
          "state": {
            "_view_name": "HTMLView",
            "style": "IPY_MODEL_b47ad14cae7a4c31a16421f682ba8710",
            "_dom_classes": [],
            "description": "",
            "_model_name": "HTMLModel",
            "placeholder": "​",
            "_view_module": "@jupyter-widgets/controls",
            "_model_module_version": "1.5.0",
            "value": "100%",
            "_view_count": null,
            "_view_module_version": "1.5.0",
            "description_tooltip": null,
            "_model_module": "@jupyter-widgets/controls",
            "layout": "IPY_MODEL_82e8c4b0c32e48b380cfc942872f40b0"
          }
        },
        "82dff7ebfa75486fb45815657b6a7e45": {
          "model_module": "@jupyter-widgets/controls",
          "model_name": "FloatProgressModel",
          "model_module_version": "1.5.0",
          "state": {
            "_view_name": "ProgressView",
            "style": "IPY_MODEL_99a517be71814d51bb7c5bbf99d922a8",
            "_dom_classes": [],
            "description": "",
            "_model_name": "FloatProgressModel",
            "bar_style": "success",
            "max": 367,
            "_view_module": "@jupyter-widgets/controls",
            "_model_module_version": "1.5.0",
            "value": 367,
            "_view_count": null,
            "_view_module_version": "1.5.0",
            "orientation": "horizontal",
            "min": 0,
            "description_tooltip": null,
            "_model_module": "@jupyter-widgets/controls",
            "layout": "IPY_MODEL_32c6fb66fe844f629440411b6a1e9e43"
          }
        },
        "b90dac73f81f49ac88732b21d59f19ed": {
          "model_module": "@jupyter-widgets/controls",
          "model_name": "HTMLModel",
          "model_module_version": "1.5.0",
          "state": {
            "_view_name": "HTMLView",
            "style": "IPY_MODEL_622aaaf5fe004f14ab28c476fa6cc867",
            "_dom_classes": [],
            "description": "",
            "_model_name": "HTMLModel",
            "placeholder": "​",
            "_view_module": "@jupyter-widgets/controls",
            "_model_module_version": "1.5.0",
            "value": " 367/367 [00:06&lt;00:00, 61.67it/s]",
            "_view_count": null,
            "_view_module_version": "1.5.0",
            "description_tooltip": null,
            "_model_module": "@jupyter-widgets/controls",
            "layout": "IPY_MODEL_cf28de3a318b4ee7b10d77f0a4bc1cda"
          }
        },
        "b47ad14cae7a4c31a16421f682ba8710": {
          "model_module": "@jupyter-widgets/controls",
          "model_name": "DescriptionStyleModel",
          "model_module_version": "1.5.0",
          "state": {
            "_view_name": "StyleView",
            "_model_name": "DescriptionStyleModel",
            "description_width": "",
            "_view_module": "@jupyter-widgets/base",
            "_model_module_version": "1.5.0",
            "_view_count": null,
            "_view_module_version": "1.2.0",
            "_model_module": "@jupyter-widgets/controls"
          }
        },
        "82e8c4b0c32e48b380cfc942872f40b0": {
          "model_module": "@jupyter-widgets/base",
          "model_name": "LayoutModel",
          "model_module_version": "1.2.0",
          "state": {
            "_view_name": "LayoutView",
            "grid_template_rows": null,
            "right": null,
            "justify_content": null,
            "_view_module": "@jupyter-widgets/base",
            "overflow": null,
            "_model_module_version": "1.2.0",
            "_view_count": null,
            "flex_flow": null,
            "width": null,
            "min_width": null,
            "border": null,
            "align_items": null,
            "bottom": null,
            "_model_module": "@jupyter-widgets/base",
            "top": null,
            "grid_column": null,
            "overflow_y": null,
            "overflow_x": null,
            "grid_auto_flow": null,
            "grid_area": null,
            "grid_template_columns": null,
            "flex": null,
            "_model_name": "LayoutModel",
            "justify_items": null,
            "grid_row": null,
            "max_height": null,
            "align_content": null,
            "visibility": null,
            "align_self": null,
            "height": null,
            "min_height": null,
            "padding": null,
            "grid_auto_rows": null,
            "grid_gap": null,
            "max_width": null,
            "order": null,
            "_view_module_version": "1.2.0",
            "grid_template_areas": null,
            "object_position": null,
            "object_fit": null,
            "grid_auto_columns": null,
            "margin": null,
            "display": null,
            "left": null
          }
        },
        "99a517be71814d51bb7c5bbf99d922a8": {
          "model_module": "@jupyter-widgets/controls",
          "model_name": "ProgressStyleModel",
          "model_module_version": "1.5.0",
          "state": {
            "_view_name": "StyleView",
            "_model_name": "ProgressStyleModel",
            "description_width": "",
            "_view_module": "@jupyter-widgets/base",
            "_model_module_version": "1.5.0",
            "_view_count": null,
            "_view_module_version": "1.2.0",
            "bar_color": null,
            "_model_module": "@jupyter-widgets/controls"
          }
        },
        "32c6fb66fe844f629440411b6a1e9e43": {
          "model_module": "@jupyter-widgets/base",
          "model_name": "LayoutModel",
          "model_module_version": "1.2.0",
          "state": {
            "_view_name": "LayoutView",
            "grid_template_rows": null,
            "right": null,
            "justify_content": null,
            "_view_module": "@jupyter-widgets/base",
            "overflow": null,
            "_model_module_version": "1.2.0",
            "_view_count": null,
            "flex_flow": null,
            "width": null,
            "min_width": null,
            "border": null,
            "align_items": null,
            "bottom": null,
            "_model_module": "@jupyter-widgets/base",
            "top": null,
            "grid_column": null,
            "overflow_y": null,
            "overflow_x": null,
            "grid_auto_flow": null,
            "grid_area": null,
            "grid_template_columns": null,
            "flex": null,
            "_model_name": "LayoutModel",
            "justify_items": null,
            "grid_row": null,
            "max_height": null,
            "align_content": null,
            "visibility": null,
            "align_self": null,
            "height": null,
            "min_height": null,
            "padding": null,
            "grid_auto_rows": null,
            "grid_gap": null,
            "max_width": null,
            "order": null,
            "_view_module_version": "1.2.0",
            "grid_template_areas": null,
            "object_position": null,
            "object_fit": null,
            "grid_auto_columns": null,
            "margin": null,
            "display": null,
            "left": null
          }
        },
        "622aaaf5fe004f14ab28c476fa6cc867": {
          "model_module": "@jupyter-widgets/controls",
          "model_name": "DescriptionStyleModel",
          "model_module_version": "1.5.0",
          "state": {
            "_view_name": "StyleView",
            "_model_name": "DescriptionStyleModel",
            "description_width": "",
            "_view_module": "@jupyter-widgets/base",
            "_model_module_version": "1.5.0",
            "_view_count": null,
            "_view_module_version": "1.2.0",
            "_model_module": "@jupyter-widgets/controls"
          }
        },
        "cf28de3a318b4ee7b10d77f0a4bc1cda": {
          "model_module": "@jupyter-widgets/base",
          "model_name": "LayoutModel",
          "model_module_version": "1.2.0",
          "state": {
            "_view_name": "LayoutView",
            "grid_template_rows": null,
            "right": null,
            "justify_content": null,
            "_view_module": "@jupyter-widgets/base",
            "overflow": null,
            "_model_module_version": "1.2.0",
            "_view_count": null,
            "flex_flow": null,
            "width": null,
            "min_width": null,
            "border": null,
            "align_items": null,
            "bottom": null,
            "_model_module": "@jupyter-widgets/base",
            "top": null,
            "grid_column": null,
            "overflow_y": null,
            "overflow_x": null,
            "grid_auto_flow": null,
            "grid_area": null,
            "grid_template_columns": null,
            "flex": null,
            "_model_name": "LayoutModel",
            "justify_items": null,
            "grid_row": null,
            "max_height": null,
            "align_content": null,
            "visibility": null,
            "align_self": null,
            "height": null,
            "min_height": null,
            "padding": null,
            "grid_auto_rows": null,
            "grid_gap": null,
            "max_width": null,
            "order": null,
            "_view_module_version": "1.2.0",
            "grid_template_areas": null,
            "object_position": null,
            "object_fit": null,
            "grid_auto_columns": null,
            "margin": null,
            "display": null,
            "left": null
          }
        },
        "ba9de31b8d514850afd37d27a31d6ce2": {
          "model_module": "@jupyter-widgets/controls",
          "model_name": "HBoxModel",
          "model_module_version": "1.5.0",
          "state": {
            "_view_name": "HBoxView",
            "_dom_classes": [],
            "_model_name": "HBoxModel",
            "_view_module": "@jupyter-widgets/controls",
            "_model_module_version": "1.5.0",
            "_view_count": null,
            "_view_module_version": "1.5.0",
            "box_style": "",
            "layout": "IPY_MODEL_948201bbe4a84374a32afebf12c6b001",
            "_model_module": "@jupyter-widgets/controls",
            "children": [
              "IPY_MODEL_da04e58ba58543019d8cfc105eb48cb2",
              "IPY_MODEL_12cd8b8386514949891d63ffdda65bec",
              "IPY_MODEL_dcb66a991d274e0dbdb7c8dc56ea0d88"
            ]
          }
        },
        "948201bbe4a84374a32afebf12c6b001": {
          "model_module": "@jupyter-widgets/base",
          "model_name": "LayoutModel",
          "model_module_version": "1.2.0",
          "state": {
            "_view_name": "LayoutView",
            "grid_template_rows": null,
            "right": null,
            "justify_content": null,
            "_view_module": "@jupyter-widgets/base",
            "overflow": null,
            "_model_module_version": "1.2.0",
            "_view_count": null,
            "flex_flow": null,
            "width": null,
            "min_width": null,
            "border": null,
            "align_items": null,
            "bottom": null,
            "_model_module": "@jupyter-widgets/base",
            "top": null,
            "grid_column": null,
            "overflow_y": null,
            "overflow_x": null,
            "grid_auto_flow": null,
            "grid_area": null,
            "grid_template_columns": null,
            "flex": null,
            "_model_name": "LayoutModel",
            "justify_items": null,
            "grid_row": null,
            "max_height": null,
            "align_content": null,
            "visibility": null,
            "align_self": null,
            "height": null,
            "min_height": null,
            "padding": null,
            "grid_auto_rows": null,
            "grid_gap": null,
            "max_width": null,
            "order": null,
            "_view_module_version": "1.2.0",
            "grid_template_areas": null,
            "object_position": null,
            "object_fit": null,
            "grid_auto_columns": null,
            "margin": null,
            "display": null,
            "left": null
          }
        },
        "da04e58ba58543019d8cfc105eb48cb2": {
          "model_module": "@jupyter-widgets/controls",
          "model_name": "HTMLModel",
          "model_module_version": "1.5.0",
          "state": {
            "_view_name": "HTMLView",
            "style": "IPY_MODEL_dc702ddc0b584951ad3067a1a2c7da85",
            "_dom_classes": [],
            "description": "",
            "_model_name": "HTMLModel",
            "placeholder": "​",
            "_view_module": "@jupyter-widgets/controls",
            "_model_module_version": "1.5.0",
            "value": "100%",
            "_view_count": null,
            "_view_module_version": "1.5.0",
            "description_tooltip": null,
            "_model_module": "@jupyter-widgets/controls",
            "layout": "IPY_MODEL_3cb2df75da9f43278b7b96808423577c"
          }
        },
        "12cd8b8386514949891d63ffdda65bec": {
          "model_module": "@jupyter-widgets/controls",
          "model_name": "FloatProgressModel",
          "model_module_version": "1.5.0",
          "state": {
            "_view_name": "ProgressView",
            "style": "IPY_MODEL_89aed7c7bc0d4924a35cddeba25e9949",
            "_dom_classes": [],
            "description": "",
            "_model_name": "FloatProgressModel",
            "bar_style": "success",
            "max": 1101,
            "_view_module": "@jupyter-widgets/controls",
            "_model_module_version": "1.5.0",
            "value": 1101,
            "_view_count": null,
            "_view_module_version": "1.5.0",
            "orientation": "horizontal",
            "min": 0,
            "description_tooltip": null,
            "_model_module": "@jupyter-widgets/controls",
            "layout": "IPY_MODEL_a806959365944a778cb7a2ee09d7e5b2"
          }
        },
        "dcb66a991d274e0dbdb7c8dc56ea0d88": {
          "model_module": "@jupyter-widgets/controls",
          "model_name": "HTMLModel",
          "model_module_version": "1.5.0",
          "state": {
            "_view_name": "HTMLView",
            "style": "IPY_MODEL_8598696686134552b1a558544b81ec8f",
            "_dom_classes": [],
            "description": "",
            "_model_name": "HTMLModel",
            "placeholder": "​",
            "_view_module": "@jupyter-widgets/controls",
            "_model_module_version": "1.5.0",
            "value": " 1101/1101 [00:02&lt;00:00, 541.59it/s]",
            "_view_count": null,
            "_view_module_version": "1.5.0",
            "description_tooltip": null,
            "_model_module": "@jupyter-widgets/controls",
            "layout": "IPY_MODEL_eab96638827d47bbaa08b85fba482d2a"
          }
        },
        "dc702ddc0b584951ad3067a1a2c7da85": {
          "model_module": "@jupyter-widgets/controls",
          "model_name": "DescriptionStyleModel",
          "model_module_version": "1.5.0",
          "state": {
            "_view_name": "StyleView",
            "_model_name": "DescriptionStyleModel",
            "description_width": "",
            "_view_module": "@jupyter-widgets/base",
            "_model_module_version": "1.5.0",
            "_view_count": null,
            "_view_module_version": "1.2.0",
            "_model_module": "@jupyter-widgets/controls"
          }
        },
        "3cb2df75da9f43278b7b96808423577c": {
          "model_module": "@jupyter-widgets/base",
          "model_name": "LayoutModel",
          "model_module_version": "1.2.0",
          "state": {
            "_view_name": "LayoutView",
            "grid_template_rows": null,
            "right": null,
            "justify_content": null,
            "_view_module": "@jupyter-widgets/base",
            "overflow": null,
            "_model_module_version": "1.2.0",
            "_view_count": null,
            "flex_flow": null,
            "width": null,
            "min_width": null,
            "border": null,
            "align_items": null,
            "bottom": null,
            "_model_module": "@jupyter-widgets/base",
            "top": null,
            "grid_column": null,
            "overflow_y": null,
            "overflow_x": null,
            "grid_auto_flow": null,
            "grid_area": null,
            "grid_template_columns": null,
            "flex": null,
            "_model_name": "LayoutModel",
            "justify_items": null,
            "grid_row": null,
            "max_height": null,
            "align_content": null,
            "visibility": null,
            "align_self": null,
            "height": null,
            "min_height": null,
            "padding": null,
            "grid_auto_rows": null,
            "grid_gap": null,
            "max_width": null,
            "order": null,
            "_view_module_version": "1.2.0",
            "grid_template_areas": null,
            "object_position": null,
            "object_fit": null,
            "grid_auto_columns": null,
            "margin": null,
            "display": null,
            "left": null
          }
        },
        "89aed7c7bc0d4924a35cddeba25e9949": {
          "model_module": "@jupyter-widgets/controls",
          "model_name": "ProgressStyleModel",
          "model_module_version": "1.5.0",
          "state": {
            "_view_name": "StyleView",
            "_model_name": "ProgressStyleModel",
            "description_width": "",
            "_view_module": "@jupyter-widgets/base",
            "_model_module_version": "1.5.0",
            "_view_count": null,
            "_view_module_version": "1.2.0",
            "bar_color": null,
            "_model_module": "@jupyter-widgets/controls"
          }
        },
        "a806959365944a778cb7a2ee09d7e5b2": {
          "model_module": "@jupyter-widgets/base",
          "model_name": "LayoutModel",
          "model_module_version": "1.2.0",
          "state": {
            "_view_name": "LayoutView",
            "grid_template_rows": null,
            "right": null,
            "justify_content": null,
            "_view_module": "@jupyter-widgets/base",
            "overflow": null,
            "_model_module_version": "1.2.0",
            "_view_count": null,
            "flex_flow": null,
            "width": null,
            "min_width": null,
            "border": null,
            "align_items": null,
            "bottom": null,
            "_model_module": "@jupyter-widgets/base",
            "top": null,
            "grid_column": null,
            "overflow_y": null,
            "overflow_x": null,
            "grid_auto_flow": null,
            "grid_area": null,
            "grid_template_columns": null,
            "flex": null,
            "_model_name": "LayoutModel",
            "justify_items": null,
            "grid_row": null,
            "max_height": null,
            "align_content": null,
            "visibility": null,
            "align_self": null,
            "height": null,
            "min_height": null,
            "padding": null,
            "grid_auto_rows": null,
            "grid_gap": null,
            "max_width": null,
            "order": null,
            "_view_module_version": "1.2.0",
            "grid_template_areas": null,
            "object_position": null,
            "object_fit": null,
            "grid_auto_columns": null,
            "margin": null,
            "display": null,
            "left": null
          }
        },
        "8598696686134552b1a558544b81ec8f": {
          "model_module": "@jupyter-widgets/controls",
          "model_name": "DescriptionStyleModel",
          "model_module_version": "1.5.0",
          "state": {
            "_view_name": "StyleView",
            "_model_name": "DescriptionStyleModel",
            "description_width": "",
            "_view_module": "@jupyter-widgets/base",
            "_model_module_version": "1.5.0",
            "_view_count": null,
            "_view_module_version": "1.2.0",
            "_model_module": "@jupyter-widgets/controls"
          }
        },
        "eab96638827d47bbaa08b85fba482d2a": {
          "model_module": "@jupyter-widgets/base",
          "model_name": "LayoutModel",
          "model_module_version": "1.2.0",
          "state": {
            "_view_name": "LayoutView",
            "grid_template_rows": null,
            "right": null,
            "justify_content": null,
            "_view_module": "@jupyter-widgets/base",
            "overflow": null,
            "_model_module_version": "1.2.0",
            "_view_count": null,
            "flex_flow": null,
            "width": null,
            "min_width": null,
            "border": null,
            "align_items": null,
            "bottom": null,
            "_model_module": "@jupyter-widgets/base",
            "top": null,
            "grid_column": null,
            "overflow_y": null,
            "overflow_x": null,
            "grid_auto_flow": null,
            "grid_area": null,
            "grid_template_columns": null,
            "flex": null,
            "_model_name": "LayoutModel",
            "justify_items": null,
            "grid_row": null,
            "max_height": null,
            "align_content": null,
            "visibility": null,
            "align_self": null,
            "height": null,
            "min_height": null,
            "padding": null,
            "grid_auto_rows": null,
            "grid_gap": null,
            "max_width": null,
            "order": null,
            "_view_module_version": "1.2.0",
            "grid_template_areas": null,
            "object_position": null,
            "object_fit": null,
            "grid_auto_columns": null,
            "margin": null,
            "display": null,
            "left": null
          }
        },
        "e5ebb10447184805b66d179e03816def": {
          "model_module": "@jupyter-widgets/controls",
          "model_name": "HBoxModel",
          "model_module_version": "1.5.0",
          "state": {
            "_view_name": "HBoxView",
            "_dom_classes": [],
            "_model_name": "HBoxModel",
            "_view_module": "@jupyter-widgets/controls",
            "_model_module_version": "1.5.0",
            "_view_count": null,
            "_view_module_version": "1.5.0",
            "box_style": "",
            "layout": "IPY_MODEL_5e9f2714aa1e4a8ba3734ceff3fb2420",
            "_model_module": "@jupyter-widgets/controls",
            "children": [
              "IPY_MODEL_68040aefc8e14955a8113fa4a475b09f",
              "IPY_MODEL_90dc604d6e41416ca70d0f36b61ebfc6",
              "IPY_MODEL_f550b94dce4e44d6916c074d7683422a"
            ]
          }
        },
        "5e9f2714aa1e4a8ba3734ceff3fb2420": {
          "model_module": "@jupyter-widgets/base",
          "model_name": "LayoutModel",
          "model_module_version": "1.2.0",
          "state": {
            "_view_name": "LayoutView",
            "grid_template_rows": null,
            "right": null,
            "justify_content": null,
            "_view_module": "@jupyter-widgets/base",
            "overflow": null,
            "_model_module_version": "1.2.0",
            "_view_count": null,
            "flex_flow": null,
            "width": null,
            "min_width": null,
            "border": null,
            "align_items": null,
            "bottom": null,
            "_model_module": "@jupyter-widgets/base",
            "top": null,
            "grid_column": null,
            "overflow_y": null,
            "overflow_x": null,
            "grid_auto_flow": null,
            "grid_area": null,
            "grid_template_columns": null,
            "flex": null,
            "_model_name": "LayoutModel",
            "justify_items": null,
            "grid_row": null,
            "max_height": null,
            "align_content": null,
            "visibility": null,
            "align_self": null,
            "height": null,
            "min_height": null,
            "padding": null,
            "grid_auto_rows": null,
            "grid_gap": null,
            "max_width": null,
            "order": null,
            "_view_module_version": "1.2.0",
            "grid_template_areas": null,
            "object_position": null,
            "object_fit": null,
            "grid_auto_columns": null,
            "margin": null,
            "display": null,
            "left": null
          }
        },
        "68040aefc8e14955a8113fa4a475b09f": {
          "model_module": "@jupyter-widgets/controls",
          "model_name": "HTMLModel",
          "model_module_version": "1.5.0",
          "state": {
            "_view_name": "HTMLView",
            "style": "IPY_MODEL_363f455006fb4dfc85f25045a4657356",
            "_dom_classes": [],
            "description": "",
            "_model_name": "HTMLModel",
            "placeholder": "​",
            "_view_module": "@jupyter-widgets/controls",
            "_model_module_version": "1.5.0",
            "value": "100%",
            "_view_count": null,
            "_view_module_version": "1.5.0",
            "description_tooltip": null,
            "_model_module": "@jupyter-widgets/controls",
            "layout": "IPY_MODEL_7e8a2c883fa24c6a9d9ca9764f7eb4b8"
          }
        },
        "90dc604d6e41416ca70d0f36b61ebfc6": {
          "model_module": "@jupyter-widgets/controls",
          "model_name": "FloatProgressModel",
          "model_module_version": "1.5.0",
          "state": {
            "_view_name": "ProgressView",
            "style": "IPY_MODEL_c66cc1e37aac42df8368f03db59b6259",
            "_dom_classes": [],
            "description": "",
            "_model_name": "FloatProgressModel",
            "bar_style": "success",
            "max": 101,
            "_view_module": "@jupyter-widgets/controls",
            "_model_module_version": "1.5.0",
            "value": 101,
            "_view_count": null,
            "_view_module_version": "1.5.0",
            "orientation": "horizontal",
            "min": 0,
            "description_tooltip": null,
            "_model_module": "@jupyter-widgets/controls",
            "layout": "IPY_MODEL_76b3b6b6f4894c9fa9174f19ea1fd48e"
          }
        },
        "f550b94dce4e44d6916c074d7683422a": {
          "model_module": "@jupyter-widgets/controls",
          "model_name": "HTMLModel",
          "model_module_version": "1.5.0",
          "state": {
            "_view_name": "HTMLView",
            "style": "IPY_MODEL_65b0333b99b7488f866dc33645b41750",
            "_dom_classes": [],
            "description": "",
            "_model_name": "HTMLModel",
            "placeholder": "​",
            "_view_module": "@jupyter-widgets/controls",
            "_model_module_version": "1.5.0",
            "value": " 101/101 [00:12&lt;00:00,  8.75it/s]",
            "_view_count": null,
            "_view_module_version": "1.5.0",
            "description_tooltip": null,
            "_model_module": "@jupyter-widgets/controls",
            "layout": "IPY_MODEL_dbb3ae41c9bc43438eabf29b8a1a4fd7"
          }
        },
        "363f455006fb4dfc85f25045a4657356": {
          "model_module": "@jupyter-widgets/controls",
          "model_name": "DescriptionStyleModel",
          "model_module_version": "1.5.0",
          "state": {
            "_view_name": "StyleView",
            "_model_name": "DescriptionStyleModel",
            "description_width": "",
            "_view_module": "@jupyter-widgets/base",
            "_model_module_version": "1.5.0",
            "_view_count": null,
            "_view_module_version": "1.2.0",
            "_model_module": "@jupyter-widgets/controls"
          }
        },
        "7e8a2c883fa24c6a9d9ca9764f7eb4b8": {
          "model_module": "@jupyter-widgets/base",
          "model_name": "LayoutModel",
          "model_module_version": "1.2.0",
          "state": {
            "_view_name": "LayoutView",
            "grid_template_rows": null,
            "right": null,
            "justify_content": null,
            "_view_module": "@jupyter-widgets/base",
            "overflow": null,
            "_model_module_version": "1.2.0",
            "_view_count": null,
            "flex_flow": null,
            "width": null,
            "min_width": null,
            "border": null,
            "align_items": null,
            "bottom": null,
            "_model_module": "@jupyter-widgets/base",
            "top": null,
            "grid_column": null,
            "overflow_y": null,
            "overflow_x": null,
            "grid_auto_flow": null,
            "grid_area": null,
            "grid_template_columns": null,
            "flex": null,
            "_model_name": "LayoutModel",
            "justify_items": null,
            "grid_row": null,
            "max_height": null,
            "align_content": null,
            "visibility": null,
            "align_self": null,
            "height": null,
            "min_height": null,
            "padding": null,
            "grid_auto_rows": null,
            "grid_gap": null,
            "max_width": null,
            "order": null,
            "_view_module_version": "1.2.0",
            "grid_template_areas": null,
            "object_position": null,
            "object_fit": null,
            "grid_auto_columns": null,
            "margin": null,
            "display": null,
            "left": null
          }
        },
        "c66cc1e37aac42df8368f03db59b6259": {
          "model_module": "@jupyter-widgets/controls",
          "model_name": "ProgressStyleModel",
          "model_module_version": "1.5.0",
          "state": {
            "_view_name": "StyleView",
            "_model_name": "ProgressStyleModel",
            "description_width": "",
            "_view_module": "@jupyter-widgets/base",
            "_model_module_version": "1.5.0",
            "_view_count": null,
            "_view_module_version": "1.2.0",
            "bar_color": null,
            "_model_module": "@jupyter-widgets/controls"
          }
        },
        "76b3b6b6f4894c9fa9174f19ea1fd48e": {
          "model_module": "@jupyter-widgets/base",
          "model_name": "LayoutModel",
          "model_module_version": "1.2.0",
          "state": {
            "_view_name": "LayoutView",
            "grid_template_rows": null,
            "right": null,
            "justify_content": null,
            "_view_module": "@jupyter-widgets/base",
            "overflow": null,
            "_model_module_version": "1.2.0",
            "_view_count": null,
            "flex_flow": null,
            "width": null,
            "min_width": null,
            "border": null,
            "align_items": null,
            "bottom": null,
            "_model_module": "@jupyter-widgets/base",
            "top": null,
            "grid_column": null,
            "overflow_y": null,
            "overflow_x": null,
            "grid_auto_flow": null,
            "grid_area": null,
            "grid_template_columns": null,
            "flex": null,
            "_model_name": "LayoutModel",
            "justify_items": null,
            "grid_row": null,
            "max_height": null,
            "align_content": null,
            "visibility": null,
            "align_self": null,
            "height": null,
            "min_height": null,
            "padding": null,
            "grid_auto_rows": null,
            "grid_gap": null,
            "max_width": null,
            "order": null,
            "_view_module_version": "1.2.0",
            "grid_template_areas": null,
            "object_position": null,
            "object_fit": null,
            "grid_auto_columns": null,
            "margin": null,
            "display": null,
            "left": null
          }
        },
        "65b0333b99b7488f866dc33645b41750": {
          "model_module": "@jupyter-widgets/controls",
          "model_name": "DescriptionStyleModel",
          "model_module_version": "1.5.0",
          "state": {
            "_view_name": "StyleView",
            "_model_name": "DescriptionStyleModel",
            "description_width": "",
            "_view_module": "@jupyter-widgets/base",
            "_model_module_version": "1.5.0",
            "_view_count": null,
            "_view_module_version": "1.2.0",
            "_model_module": "@jupyter-widgets/controls"
          }
        },
        "dbb3ae41c9bc43438eabf29b8a1a4fd7": {
          "model_module": "@jupyter-widgets/base",
          "model_name": "LayoutModel",
          "model_module_version": "1.2.0",
          "state": {
            "_view_name": "LayoutView",
            "grid_template_rows": null,
            "right": null,
            "justify_content": null,
            "_view_module": "@jupyter-widgets/base",
            "overflow": null,
            "_model_module_version": "1.2.0",
            "_view_count": null,
            "flex_flow": null,
            "width": null,
            "min_width": null,
            "border": null,
            "align_items": null,
            "bottom": null,
            "_model_module": "@jupyter-widgets/base",
            "top": null,
            "grid_column": null,
            "overflow_y": null,
            "overflow_x": null,
            "grid_auto_flow": null,
            "grid_area": null,
            "grid_template_columns": null,
            "flex": null,
            "_model_name": "LayoutModel",
            "justify_items": null,
            "grid_row": null,
            "max_height": null,
            "align_content": null,
            "visibility": null,
            "align_self": null,
            "height": null,
            "min_height": null,
            "padding": null,
            "grid_auto_rows": null,
            "grid_gap": null,
            "max_width": null,
            "order": null,
            "_view_module_version": "1.2.0",
            "grid_template_areas": null,
            "object_position": null,
            "object_fit": null,
            "grid_auto_columns": null,
            "margin": null,
            "display": null,
            "left": null
          }
        }
      }
    }
  },
  "cells": [
    {
      "cell_type": "markdown",
      "metadata": {
        "id": "m-UnWGws04Rs"
      },
      "source": [
        "# Semantic Segmentation using VGG16 and UNET"
      ]
    },
    {
      "cell_type": "markdown",
      "metadata": {
        "id": "MJ0vpmAWwx9u"
      },
      "source": [
        "Mount Google Drive"
      ]
    },
    {
      "cell_type": "code",
      "metadata": {
        "colab": {
          "base_uri": "https://localhost:8080/"
        },
        "id": "a44U86p3YJRG",
        "outputId": "51d0adef-1104-4e62-a245-5bee8a224a44"
      },
      "source": [
        "from google.colab import drive\n",
        "drive.mount('/content/gdrive')\n"
      ],
      "execution_count": 1,
      "outputs": [
        {
          "output_type": "stream",
          "name": "stdout",
          "text": [
            "Mounted at /content/gdrive\n"
          ]
        }
      ]
    },
    {
      "cell_type": "markdown",
      "metadata": {
        "id": "kcxxDMSj1JrC"
      },
      "source": [
        "Import Libraries"
      ]
    },
    {
      "cell_type": "code",
      "metadata": {
        "id": "n8w57KxtYK_v"
      },
      "source": [
        "## Libraries\n",
        "\n",
        "import os\n",
        "import numpy as np\n",
        "import random\n",
        "import cv2\n",
        "from tqdm.notebook import tqdm\n",
        "import tensorflow\n",
        "from glob import glob\n",
        "import io\n",
        "\n",
        "from keras import backend as K\n",
        "from skimage.transform import resize\n",
        "import matplotlib.pyplot as plt\n",
        "from PIL import Image\n",
        "from sklearn.model_selection import train_test_split\n",
        "from keras.preprocessing.image import load_img, ImageDataGenerator\n",
        "from tensorflow.keras.optimizers import Adam\n",
        "from keras import Model\n",
        "from keras.callbacks import EarlyStopping, ReduceLROnPlateau, ModelCheckpoint\n",
        "from keras.layers import Conv2D, BatchNormalization, Activation, MaxPooling2D, Conv2DTranspose, \\\n",
        "                         concatenate, Input, Dropout\n",
        "from tensorflow.keras.preprocessing.image import img_to_array, array_to_img\n",
        "from albumentations import CenterCrop, RandomRotate90, GridDistortion, HorizontalFlip, VerticalFlip, RandomBrightnessContrast"
      ],
      "execution_count": 2,
      "outputs": []
    },
    {
      "cell_type": "markdown",
      "metadata": {
        "id": "7PBsBKeZYarw"
      },
      "source": [
        "### (Zipped) Dataset upload using Drive\n",
        "https://towardsdatascience.com/how-to-successfully-add-large-data-sets-to-google-drive-130beb320f1a\n",
        "\n",
        "\n",
        "\n",
        "*   Create a shortcut in MyDrive from Sharedwithme folder in Google Drive\n",
        "\n"
      ]
    },
    {
      "cell_type": "code",
      "metadata": {
        "colab": {
          "base_uri": "https://localhost:8080/"
        },
        "id": "9DKQ9XEqYlwM",
        "outputId": "1a7fe782-d5da-4a0a-caa4-e4720a1c1af5"
      },
      "source": [
        "!unzip gdrive/My\\ Drive/A3_Dataset/A3_Dataset.zip"
      ],
      "execution_count": 4,
      "outputs": [
        {
          "output_type": "stream",
          "name": "stdout",
          "text": [
            "Archive:  gdrive/My Drive/A3_Dataset/A3_Dataset.zip\n",
            "replace A3_Dataset/dataset1/annotations_prepped_test/0016E5_07959.png? [y]es, [n]o, [A]ll, [N]one, [r]ename: N\n"
          ]
        }
      ]
    },
    {
      "cell_type": "markdown",
      "metadata": {
        "id": "ay3Y-fJZw5KC"
      },
      "source": [
        "### Display Original Image and Ground Truth Segmented Mask"
      ]
    },
    {
      "cell_type": "code",
      "metadata": {
        "colab": {
          "base_uri": "https://localhost:8080/",
          "height": 287
        },
        "id": "1oxxQmwOnds5",
        "outputId": "e09c8b70-7790-4a3d-b0f7-5b77e9f928cf"
      },
      "source": [
        "im=cv2.imread(\"/content/A3_Dataset/dataset1/annotations_prepped_test/0016E5_07959.png\")\n",
        "print(im.shape)\n",
        "imgplot = plt.imshow(im)\n",
        "plt.savefig(\"annotations_prepped_test.png\")"
      ],
      "execution_count": 5,
      "outputs": [
        {
          "output_type": "stream",
          "name": "stdout",
          "text": [
            "(360, 480, 3)\n"
          ]
        },
        {
          "output_type": "display_data",
          "data": {
            "image/png": "[encoded data removed]",
            "text/plain": [
              "<Figure size 432x288 with 1 Axes>"
            ]
          },
          "metadata": {
            "needs_background": "light"
          }
        }
      ]
    },
    {
      "cell_type": "code",
      "metadata": {
        "colab": {
          "base_uri": "https://localhost:8080/",
          "height": 287
        },
        "id": "LYUO--By7sAR",
        "outputId": "e17b7f55-2f72-4b83-ef51-2364c495a29f"
      },
      "source": [
        "im=cv2.imread(\"/content/A3_Dataset/dataset1/images_prepped_test/0016E5_07959.png\")\n",
        "print(im.shape)\n",
        "imgplot = plt.imshow(im)\n",
        "plt.savefig(\"images_prepped_test.png\")"
      ],
      "execution_count": 6,
      "outputs": [
        {
          "output_type": "stream",
          "name": "stdout",
          "text": [
            "(360, 480, 3)\n"
          ]
        },
        {
          "output_type": "display_data",
          "data": {
            "image/png": "[encoded data removed]",
            "text/plain": [
              "<Figure size 432x288 with 1 Axes>"
            ]
          },
          "metadata": {
            "needs_background": "light"
          }
        }
      ]
    },
    {
      "cell_type": "markdown",
      "metadata": {
        "id": "NXhGk25V1RBo"
      },
      "source": [
        "# Load Dataset"
      ]
    },
    {
      "cell_type": "markdown",
      "metadata": {
        "id": "xKHREQqq1IVD"
      },
      "source": [
        "## Data Augmentation\n",
        "https://github.com/nikhilroxtomar/Data-Augmentation-for-Semantic-Segmentation-Dataset"
      ]
    },
    {
      "cell_type": "code",
      "metadata": {
        "colab": {
          "base_uri": "https://localhost:8080/"
        },
        "id": "JamH4MgfSv9S",
        "outputId": "6c3c9550-98b4-4ebb-d2c3-629d0627cda3"
      },
      "source": [
        " def load_data(path):\n",
        "    images = sorted(glob(os.path.join(path, \"images_prepped_train/*\")))\n",
        "    masks = sorted(glob(os.path.join(path, \"annotations_prepped_train/*\")))\n",
        "    images_test = sorted(glob(os.path.join(path, \"images_prepped_test/*\")))\n",
        "    masks_test = sorted(glob(os.path.join(path, \"annotations_prepped_test/*\")))\n",
        "    return images, masks, images_test, masks_test\n",
        "    \n",
        "path = \"/content/A3_Dataset/dataset1/\"\n",
        "images, masks, images_test, masks_test = load_data(path)\n",
        "print(f\"Original Images: {len(images)} - Original Masks: {len(masks)}\")\n",
        "print(f\"Test Images: {len(images_test)} - Test Masks: {len(masks_test)}\")"
      ],
      "execution_count": 8,
      "outputs": [
        {
          "output_type": "stream",
          "name": "stdout",
          "text": [
            "Original Images: 367 - Original Masks: 367\n",
            "Test Images: 101 - Test Masks: 101\n"
          ]
        }
      ]
    },
    {
      "cell_type": "code",
      "metadata": {
        "id": "8frIVNMlRU7E"
      },
      "source": [
        "#create new folders to save augmented data\n",
        "def create_dir(path):\n",
        "    if not os.path.exists(path):\n",
        "        os.makedirs(path)\n",
        "\n",
        "\"\"\" Creating folders. \"\"\"\n",
        "create_dir(\"new_data/images\")\n",
        "create_dir(\"new_data/masks\")"
      ],
      "execution_count": 9,
      "outputs": []
    },
    {
      "cell_type": "code",
      "metadata": {
        "colab": {
          "base_uri": "https://localhost:8080/",
          "height": 48,
          "referenced_widgets": [
            "c7e199a209a24938b1ae69c9df953cad",
            "2de090198d014fb9a11eedea46ccab2d",
            "7ec12272737848439df3a73e8e6d7f68",
            "82dff7ebfa75486fb45815657b6a7e45",
            "b90dac73f81f49ac88732b21d59f19ed",
            "b47ad14cae7a4c31a16421f682ba8710",
            "82e8c4b0c32e48b380cfc942872f40b0",
            "99a517be71814d51bb7c5bbf99d922a8",
            "32c6fb66fe844f629440411b6a1e9e43",
            "622aaaf5fe004f14ab28c476fa6cc867",
            "cf28de3a318b4ee7b10d77f0a4bc1cda"
          ]
        },
        "id": "3RBysGQ1R1aZ",
        "outputId": "5f0d7aa1-5a77-4497-eea8-7709a39bf2fc"
      },
      "source": [
        "def augment_data(images, masks, save_path, augment=True):\n",
        "    H = 128\n",
        "    W = 128\n",
        "\n",
        "    for x, y in tqdm(zip(images, masks), total=len(images)):\n",
        "        name = x.split(\"/\")[-1].split(\".\")\n",
        "        \"\"\" Extracting the name and extension of the image and the mask. \"\"\"\n",
        "        image_name = name[0]\n",
        "        image_extn = name[1]\n",
        "\n",
        "        name = y.split(\"/\")[-1].split(\".\")\n",
        "        mask_name = name[0]\n",
        "        mask_extn = name[1]\n",
        "\n",
        "        \"\"\" Reading image and mask. \"\"\"\n",
        "        x = cv2.imread(x, cv2.IMREAD_COLOR)\n",
        "        y = cv2.imread(y, cv2.IMREAD_COLOR)\n",
        "\n",
        "        \"\"\" Augmentation \"\"\"\n",
        "        if augment == True:\n",
        "\n",
        "            aug = RandomRotate90(p=1.0)\n",
        "            augmented = aug(image=x, mask=y)\n",
        "            x = augmented['image']\n",
        "            y = augmented['mask']\n",
        "\n",
        "            aug = HorizontalFlip(p=1.0)\n",
        "            augmented = aug(image=x, mask=y)\n",
        "            x1 = augmented['image']\n",
        "            y1 = augmented['mask']\n",
        "\n",
        "\n",
        "            aug = RandomBrightnessContrast(p=0.2)\n",
        "            augmented = aug(image=x, mask=y)\n",
        "            x2 = augmented['image']\n",
        "            y2 = augmented['mask']\n",
        "\n",
        "\n",
        "            save_images = [x, x1, x2]\n",
        "            save_masks =  [y, y1, x2]\n",
        "\n",
        "        else:\n",
        "            save_images = [x]\n",
        "            save_masks = [y]\n",
        "\n",
        "        \"\"\" Saving the image and mask. \"\"\"\n",
        "        idx = 0\n",
        "        for i, m in zip(save_images, save_masks):\n",
        "            i = cv2.resize(i, (W, H))\n",
        "            m = cv2.resize(m, (W, H))\n",
        "\n",
        "            if len(images) == 1:\n",
        "                tmp_img_name = f\"{image_name}.{image_extn}\"\n",
        "                tmp_mask_name = f\"{mask_name}.{mask_extn}\"\n",
        "            else:\n",
        "                tmp_img_name = f\"{image_name}_{idx}.{image_extn}\"\n",
        "                tmp_mask_name = f\"{mask_name}_{idx}.{mask_extn}\"\n",
        "\n",
        "            image_path = os.path.join(save_path, \"images\", tmp_img_name)\n",
        "            mask_path = os.path.join(save_path, \"masks\", tmp_mask_name)\n",
        "\n",
        "            cv2.imwrite(image_path, i)\n",
        "            cv2.imwrite(mask_path, m)\n",
        "\n",
        "            idx += 1\n",
        "\n",
        "\n",
        "\"\"\" Applying data augmentation. \"\"\"\n",
        "augment_data(images, masks, \"new_data\", augment=True)"
      ],
      "execution_count": 10,
      "outputs": [
        {
          "output_type": "display_data",
          "data": {
            "application/vnd.jupyter.widget-view+json": {
              "model_id": "c7e199a209a24938b1ae69c9df953cad",
              "version_minor": 0,
              "version_major": 2
            },
            "text/plain": [
              "  0%|          | 0/367 [00:00<?, ?it/s]"
            ]
          },
          "metadata": {}
        }
      ]
    },
    {
      "cell_type": "code",
      "metadata": {
        "colab": {
          "base_uri": "https://localhost:8080/"
        },
        "id": "r6B8p3KUTl17",
        "outputId": "8ce8f4f6-5fd9-444b-ce4c-227fae5ac42c"
      },
      "source": [
        "def load_augmented_data(path):\n",
        "  images = sorted(glob(os.path.join(path, \"images/*\")))\n",
        "  masks = sorted(glob(os.path.join(path, \"masks/*\")))\n",
        "  return images, masks\n",
        "    \n",
        "\"\"\" Loading augmented images and masks. \"\"\"\n",
        "images, masks = load_augmented_data(\"new_data/\")\n",
        "print(f\"Augmented Images: {len(images)} - Augmented Masks: {len(masks)}\")\n"
      ],
      "execution_count": 11,
      "outputs": [
        {
          "output_type": "stream",
          "name": "stdout",
          "text": [
            "Augmented Images: 1101 - Augmented Masks: 1101\n"
          ]
        }
      ]
    },
    {
      "cell_type": "markdown",
      "metadata": {
        "id": "Jt6HaKDHxSK-"
      },
      "source": [
        "### Display Augmented Image and Mask"
      ]
    },
    {
      "cell_type": "code",
      "metadata": {
        "colab": {
          "base_uri": "https://localhost:8080/",
          "height": 286
        },
        "id": "dvxlpVFZwEaD",
        "outputId": "f042d8c9-1b95-4c74-8fad-c0baa2bd2b29"
      },
      "source": [
        "im=cv2.imread(\"/content/new_data/images/0001TP_006690_0.png\")\n",
        "print(im.shape)\n",
        "imgplot = plt.imshow(im)\n",
        "plt.savefig(\"augmented_image.png\")"
      ],
      "execution_count": 12,
      "outputs": [
        {
          "output_type": "stream",
          "name": "stdout",
          "text": [
            "(128, 128, 3)\n"
          ]
        },
        {
          "output_type": "display_data",
          "data": {
            "image/png": "[encoded data removed]",
            "text/plain": [
              "<Figure size 432x288 with 1 Axes>"
            ]
          },
          "metadata": {
            "needs_background": "light"
          }
        }
      ]
    },
    {
      "cell_type": "code",
      "metadata": {
        "colab": {
          "base_uri": "https://localhost:8080/",
          "height": 286
        },
        "id": "5BAb6ozPwRUP",
        "outputId": "a1f55a8f-85c9-45b0-f683-9e6b30c0bd43"
      },
      "source": [
        "im=cv2.imread(\"/content/new_data/masks/0001TP_006690_0.png\")\n",
        "print(im.shape)\n",
        "imgplot = plt.imshow(im)\n",
        "plt.savefig(\"augmented_mask.png\")"
      ],
      "execution_count": 13,
      "outputs": [
        {
          "output_type": "stream",
          "name": "stdout",
          "text": [
            "(128, 128, 3)\n"
          ]
        },
        {
          "output_type": "display_data",
          "data": {
            "image/png": "[encoded data removed]",
            "text/plain": [
              "<Figure size 432x288 with 1 Axes>"
            ]
          },
          "metadata": {
            "needs_background": "light"
          }
        }
      ]
    },
    {
      "cell_type": "code",
      "metadata": {
        "colab": {
          "base_uri": "https://localhost:8080/"
        },
        "id": "zQ566DsvUMZr",
        "outputId": "1362dd56-e47b-47bf-b06d-8055080e2c59"
      },
      "source": [
        "# print(masks[2])\n",
        "# # img = cv2.imread('/new_data/masks/0001TP_006690_2.png')\n",
        " \n",
        "# # cv2_imshow(img)"
      ],
      "execution_count": 14,
      "outputs": [
        {
          "output_type": "stream",
          "name": "stdout",
          "text": [
            "new_data/masks/0001TP_006690_2.png\n"
          ]
        }
      ]
    },
    {
      "cell_type": "markdown",
      "metadata": {
        "id": "_SnGAMEp1vLN"
      },
      "source": [
        "## Create Labelled Dataset"
      ]
    },
    {
      "cell_type": "markdown",
      "metadata": {
        "id": "HF8OiaAbqbGi"
      },
      "source": [
        "### Train and Validation"
      ]
    },
    {
      "cell_type": "code",
      "metadata": {
        "id": "MkjkzSpDYb8P",
        "colab": {
          "base_uri": "https://localhost:8080/"
        },
        "outputId": "715768d6-2261-4cbb-fa75-7c2cee85ae8f"
      },
      "source": [
        "IM_HEIGHT=128\n",
        "IM_WIDTH=128\n",
        "## Get empty numpy arrays TRAIN\n",
        "X = np.zeros((len(images), IM_HEIGHT, IM_WIDTH, 3), dtype=np.float32)\n",
        "y = np.zeros((len(masks), IM_HEIGHT, IM_WIDTH, 3), dtype=np.float32)\n",
        "\n",
        "## Get empty numpy arrays TEST\n",
        "X_label = np.zeros((len(images_test), IM_HEIGHT, IM_WIDTH, 3), dtype=np.float32)\n",
        "y_label = np.zeros((len(masks_test), IM_HEIGHT, IM_WIDTH, 3), dtype=np.float32)\n",
        "\n",
        "print(\"X\", X.shape)\n",
        "print(\"y\", y.shape)\n",
        "\n",
        "print(\"X_label\", X_label.shape)\n",
        "print(\"y_label\", y_label.shape)\n"
      ],
      "execution_count": 16,
      "outputs": [
        {
          "output_type": "stream",
          "name": "stdout",
          "text": [
            "X (1101, 128, 128, 3)\n",
            "y (1101, 128, 128, 3)\n",
            "X_label (101, 128, 128, 3)\n",
            "y_label (101, 128, 128, 3)\n"
          ]
        }
      ]
    },
    {
      "cell_type": "code",
      "metadata": {
        "id": "jyUFJdMkYbD7"
      },
      "source": [
        "\n",
        "def create_labelled_dataset():\n",
        "   \n",
        "    for n, ids in enumerate(tqdm(IMG_IDS)):        \n",
        "        img = load_img(os.path.join(DATA_IMAGES, ids))\n",
        "        x_img_arr = np.asarray((img))\n",
        "        \n",
        "        mask  = load_img(os.path.join(DATA_MASKS, ids))\n",
        "        y_mask_arr = np.asarray(mask)\n",
        "        X[n] = x_img_arr/255.0 \n",
        "        y[n] = y_mask_arr/255.0\n",
        "        \n",
        "    return X, y"
      ],
      "execution_count": 17,
      "outputs": []
    },
    {
      "cell_type": "code",
      "metadata": {
        "colab": {
          "base_uri": "https://localhost:8080/",
          "height": 48,
          "referenced_widgets": [
            "ba9de31b8d514850afd37d27a31d6ce2",
            "948201bbe4a84374a32afebf12c6b001",
            "da04e58ba58543019d8cfc105eb48cb2",
            "12cd8b8386514949891d63ffdda65bec",
            "dcb66a991d274e0dbdb7c8dc56ea0d88",
            "dc702ddc0b584951ad3067a1a2c7da85",
            "3cb2df75da9f43278b7b96808423577c",
            "89aed7c7bc0d4924a35cddeba25e9949",
            "a806959365944a778cb7a2ee09d7e5b2",
            "8598696686134552b1a558544b81ec8f",
            "eab96638827d47bbaa08b85fba482d2a"
          ]
        },
        "id": "Tb0dV9oNYxk-",
        "outputId": "f758d607-24d5-4b8e-c7a6-8cf11598f5fe"
      },
      "source": [
        "DATA_IMAGES='/content/new_data/images'\n",
        "DATA_MASKS='/content/new_data/masks'\n",
        "IMG_IDS = next(os.walk(DATA_IMAGES))[2]  # returns all the files in '/content/A3_Dataset/dataset1/images_prepped_train'\n",
        "\n",
        "X, y = create_labelled_dataset()\n"
      ],
      "execution_count": 18,
      "outputs": [
        {
          "output_type": "display_data",
          "data": {
            "application/vnd.jupyter.widget-view+json": {
              "model_id": "ba9de31b8d514850afd37d27a31d6ce2",
              "version_minor": 0,
              "version_major": 2
            },
            "text/plain": [
              "  0%|          | 0/1101 [00:00<?, ?it/s]"
            ]
          },
          "metadata": {}
        }
      ]
    },
    {
      "cell_type": "code",
      "metadata": {
        "id": "p0ilfstgYzog"
      },
      "source": [
        "## Train and Validation set\n",
        "X_train, X_valid, y_train, y_valid = train_test_split(X, y, test_size=0.2)"
      ],
      "execution_count": 19,
      "outputs": []
    },
    {
      "cell_type": "markdown",
      "metadata": {
        "id": "_9vZWG38q4HT"
      },
      "source": [
        "### Preprocess the train and valid \"LABEL\""
      ]
    },
    {
      "cell_type": "code",
      "metadata": {
        "colab": {
          "base_uri": "https://localhost:8080/"
        },
        "id": "6sjZRA9LY09r",
        "outputId": "575b1bee-ce31-4b8e-8625-73685897c988"
      },
      "source": [
        "print(\"X_train\", X_train.shape)\n",
        "print(\"y_train\", y_train.shape)\n",
        "\n",
        "print(\"X_valid\", X_valid.shape)\n",
        "print(\"y_valid\", y_valid.shape)"
      ],
      "execution_count": 20,
      "outputs": [
        {
          "output_type": "stream",
          "name": "stdout",
          "text": [
            "X_train (880, 128, 128, 3)\n",
            "y_train (880, 128, 128, 3)\n",
            "X_valid (221, 128, 128, 3)\n",
            "y_valid (221, 128, 128, 3)\n"
          ]
        }
      ]
    },
    {
      "cell_type": "markdown",
      "metadata": {
        "id": "OHLbgfbqxvDE"
      },
      "source": [
        "Convert the LABEL to categorical and take np.argmax"
      ]
    },
    {
      "cell_type": "code",
      "metadata": {
        "id": "s6T4Po4bJn9y"
      },
      "source": [
        "def convert_to_categorical(Y):\n",
        "  \n",
        "  Y = tensorflow.keras.utils.to_categorical(Y, num_classes=12)\n",
        "  return Y"
      ],
      "execution_count": 21,
      "outputs": []
    },
    {
      "cell_type": "code",
      "metadata": {
        "id": "OltWUZa3BHNu"
      },
      "source": [
        "y_train = convert_to_categorical(y_train)\n",
        "y_valid = convert_to_categorical(y_valid)\n"
      ],
      "execution_count": 22,
      "outputs": []
    },
    {
      "cell_type": "code",
      "metadata": {
        "id": "guIT32dUA7lb",
        "colab": {
          "base_uri": "https://localhost:8080/"
        },
        "outputId": "caaf29c4-ab59-4771-9809-2471f4094e97"
      },
      "source": [
        "  print(\"y_train\", y_train.shape)\n",
        "  print(\"y_valid\", y_valid.shape)"
      ],
      "execution_count": 23,
      "outputs": [
        {
          "output_type": "stream",
          "name": "stdout",
          "text": [
            "y_train (880, 128, 128, 3, 12)\n",
            "y_valid (221, 128, 128, 3, 12)\n"
          ]
        }
      ]
    },
    {
      "cell_type": "code",
      "metadata": {
        "id": "lLMOnQEykqGu"
      },
      "source": [
        "def categorical_to_argmax(Y):\n",
        "  \n",
        "  Y = np.argmax(Y, axis=3 )\n",
        "  return Y\n"
      ],
      "execution_count": 24,
      "outputs": []
    },
    {
      "cell_type": "code",
      "metadata": {
        "id": "9u6tc0ZyBuuE",
        "colab": {
          "base_uri": "https://localhost:8080/"
        },
        "outputId": "582965c6-9f84-43db-8b3d-0578aaae8a3b"
      },
      "source": [
        "y_train = categorical_to_argmax(y_train)\n",
        "print(\"y_train\", y_train.shape)"
      ],
      "execution_count": 25,
      "outputs": [
        {
          "output_type": "stream",
          "name": "stdout",
          "text": [
            "y_train (880, 128, 128, 12)\n"
          ]
        }
      ]
    },
    {
      "cell_type": "code",
      "metadata": {
        "id": "wk7DD7lkmYwj",
        "colab": {
          "base_uri": "https://localhost:8080/"
        },
        "outputId": "f9deb8f4-d113-4f9b-85d6-1337382016f9"
      },
      "source": [
        "y_valid = categorical_to_argmax(y_valid)\n",
        "print(\"y_valid\", y_valid.shape)\n"
      ],
      "execution_count": 26,
      "outputs": [
        {
          "output_type": "stream",
          "name": "stdout",
          "text": [
            "y_valid (221, 128, 128, 12)\n"
          ]
        }
      ]
    },
    {
      "cell_type": "markdown",
      "metadata": {
        "id": "eQL-TpCGqeXq"
      },
      "source": [
        "### Preprocess the test \"LABEL\""
      ]
    },
    {
      "cell_type": "code",
      "metadata": {
        "id": "F9qxn2C3Cx23",
        "colab": {
          "base_uri": "https://localhost:8080/",
          "height": 48,
          "referenced_widgets": [
            "e5ebb10447184805b66d179e03816def",
            "5e9f2714aa1e4a8ba3734ceff3fb2420",
            "68040aefc8e14955a8113fa4a475b09f",
            "90dc604d6e41416ca70d0f36b61ebfc6",
            "f550b94dce4e44d6916c074d7683422a",
            "363f455006fb4dfc85f25045a4657356",
            "7e8a2c883fa24c6a9d9ca9764f7eb4b8",
            "c66cc1e37aac42df8368f03db59b6259",
            "76b3b6b6f4894c9fa9174f19ea1fd48e",
            "65b0333b99b7488f866dc33645b41750",
            "dbb3ae41c9bc43438eabf29b8a1a4fd7"
          ]
        },
        "outputId": "987bb1b2-be69-49cb-e9ff-ff16087ab95c"
      },
      "source": [
        "LABEL_MASKS='/content/A3_Dataset/dataset1/annotations_prepped_test'\n",
        "LABEL_MASK_IDS = next(os.walk(LABEL_MASKS))[2]  # returns all the files in '/content/A3_Dataset/dataset1/images_prepped_train'\n",
        "LABEL_IMAGES='/content/A3_Dataset/dataset1/images_prepped_test'\n",
        "LABEL_IMG_IDS = next(os.walk(LABEL_IMAGES))[2]\n",
        "\n",
        "for n, ids in enumerate(tqdm(LABEL_IMG_IDS)):        \n",
        "        img = load_img(os.path.join(LABEL_IMAGES, ids))\n",
        "        x_img_arr = np.asarray((img))\n",
        "        x_img = resize(x_img_arr, (IM_HEIGHT, IM_WIDTH, 3), mode='constant', preserve_range=True)\n",
        "        \n",
        "        mask  = load_img(os.path.join(LABEL_MASKS, ids))\n",
        "        y_mask_arr = np.asarray(mask)\n",
        "        y_mask = resize(y_mask_arr, (IM_HEIGHT, IM_WIDTH, 3), mode='constant', preserve_range=True)\n",
        "        X_label[n] = x_img/255.0 \n",
        "        y_label[n] = y_mask/255.0"
      ],
      "execution_count": 27,
      "outputs": [
        {
          "output_type": "display_data",
          "data": {
            "application/vnd.jupyter.widget-view+json": {
              "model_id": "e5ebb10447184805b66d179e03816def",
              "version_minor": 0,
              "version_major": 2
            },
            "text/plain": [
              "  0%|          | 0/101 [00:00<?, ?it/s]"
            ]
          },
          "metadata": {}
        }
      ]
    },
    {
      "cell_type": "code",
      "metadata": {
        "id": "7X6AvSgGYqkm",
        "colab": {
          "base_uri": "https://localhost:8080/"
        },
        "outputId": "9cc7bd96-0abf-4db1-dd10-b8a0028ded7b"
      },
      "source": [
        "print(X_label.shape)\n",
        "print(y_label.shape)"
      ],
      "execution_count": 28,
      "outputs": [
        {
          "output_type": "stream",
          "name": "stdout",
          "text": [
            "(101, 128, 128, 3)\n",
            "(101, 128, 128, 3)\n"
          ]
        }
      ]
    },
    {
      "cell_type": "markdown",
      "metadata": {
        "id": "ywRC_EBarDCr"
      },
      "source": [
        "Convert the LABEL to categorical and take np.argmax"
      ]
    },
    {
      "cell_type": "code",
      "metadata": {
        "id": "Q6-oRlSrYssE",
        "colab": {
          "base_uri": "https://localhost:8080/"
        },
        "outputId": "7473c08b-3bb6-4760-fd6e-a099b0c48b95"
      },
      "source": [
        "#y_test lavel .to_categorical\n",
        "y_test = convert_to_categorical(y_label)\n",
        "print(y_test.shape)\n",
        "\n",
        "#argmax of ylabel\n",
        "y_test=categorical_to_argmax(y_test)\n",
        "print(y_test.shape)"
      ],
      "execution_count": 29,
      "outputs": [
        {
          "output_type": "stream",
          "name": "stdout",
          "text": [
            "(101, 128, 128, 3, 12)\n",
            "(101, 128, 128, 12)\n"
          ]
        }
      ]
    },
    {
      "cell_type": "markdown",
      "metadata": {
        "id": "coaR8-3314pc"
      },
      "source": [
        "# Create Model\n",
        "https://github.com/qubvel/segmentation_models"
      ]
    },
    {
      "cell_type": "code",
      "metadata": {
        "id": "q4v0492NY-gz",
        "colab": {
          "base_uri": "https://localhost:8080/"
        },
        "outputId": "93f07c65-68a8-4373-cf24-ecdc8fafa9ed"
      },
      "source": [
        "! pip install -U segmentation-models"
      ],
      "execution_count": 30,
      "outputs": [
        {
          "output_type": "stream",
          "name": "stdout",
          "text": [
            "Collecting segmentation-models\n",
            "  Downloading segmentation_models-1.0.1-py3-none-any.whl (33 kB)\n",
            "Collecting image-classifiers==1.0.0\n",
            "  Downloading image_classifiers-1.0.0-py3-none-any.whl (19 kB)\n",
            "Collecting efficientnet==1.0.0\n",
            "  Downloading efficientnet-1.0.0-py3-none-any.whl (17 kB)\n",
            "Collecting keras-applications<=1.0.8,>=1.0.7\n",
            "  Downloading Keras_Applications-1.0.8-py3-none-any.whl (50 kB)\n",
            "\u001b[K     |████████████████████████████████| 50 kB 4.0 MB/s \n",
            "\u001b[?25hRequirement already satisfied: scikit-image in /usr/local/lib/python3.7/dist-packages (from efficientnet==1.0.0->segmentation-models) (0.18.3)\n",
            "Requirement already satisfied: numpy>=1.9.1 in /usr/local/lib/python3.7/dist-packages (from keras-applications<=1.0.8,>=1.0.7->segmentation-models) (1.19.5)\n",
            "Requirement already satisfied: h5py in /usr/local/lib/python3.7/dist-packages (from keras-applications<=1.0.8,>=1.0.7->segmentation-models) (3.1.0)\n",
            "Requirement already satisfied: cached-property in /usr/local/lib/python3.7/dist-packages (from h5py->keras-applications<=1.0.8,>=1.0.7->segmentation-models) (1.5.2)\n",
            "Requirement already satisfied: matplotlib!=3.0.0,>=2.0.0 in /usr/local/lib/python3.7/dist-packages (from scikit-image->efficientnet==1.0.0->segmentation-models) (3.2.2)\n",
            "Requirement already satisfied: PyWavelets>=1.1.1 in /usr/local/lib/python3.7/dist-packages (from scikit-image->efficientnet==1.0.0->segmentation-models) (1.2.0)\n",
            "Requirement already satisfied: imageio>=2.3.0 in /usr/local/lib/python3.7/dist-packages (from scikit-image->efficientnet==1.0.0->segmentation-models) (2.4.1)\n",
            "Requirement already satisfied: scipy>=1.0.1 in /usr/local/lib/python3.7/dist-packages (from scikit-image->efficientnet==1.0.0->segmentation-models) (1.4.1)\n",
            "Requirement already satisfied: networkx>=2.0 in /usr/local/lib/python3.7/dist-packages (from scikit-image->efficientnet==1.0.0->segmentation-models) (2.6.3)\n",
            "Requirement already satisfied: tifffile>=2019.7.26 in /usr/local/lib/python3.7/dist-packages (from scikit-image->efficientnet==1.0.0->segmentation-models) (2021.11.2)\n",
            "Requirement already satisfied: pillow!=7.1.0,!=7.1.1,>=4.3.0 in /usr/local/lib/python3.7/dist-packages (from scikit-image->efficientnet==1.0.0->segmentation-models) (7.1.2)\n",
            "Requirement already satisfied: cycler>=0.10 in /usr/local/lib/python3.7/dist-packages (from matplotlib!=3.0.0,>=2.0.0->scikit-image->efficientnet==1.0.0->segmentation-models) (0.11.0)\n",
            "Requirement already satisfied: python-dateutil>=2.1 in /usr/local/lib/python3.7/dist-packages (from matplotlib!=3.0.0,>=2.0.0->scikit-image->efficientnet==1.0.0->segmentation-models) (2.8.2)\n",
            "Requirement already satisfied: pyparsing!=2.0.4,!=2.1.2,!=2.1.6,>=2.0.1 in /usr/local/lib/python3.7/dist-packages (from matplotlib!=3.0.0,>=2.0.0->scikit-image->efficientnet==1.0.0->segmentation-models) (3.0.6)\n",
            "Requirement already satisfied: kiwisolver>=1.0.1 in /usr/local/lib/python3.7/dist-packages (from matplotlib!=3.0.0,>=2.0.0->scikit-image->efficientnet==1.0.0->segmentation-models) (1.3.2)\n",
            "Requirement already satisfied: six>=1.5 in /usr/local/lib/python3.7/dist-packages (from python-dateutil>=2.1->matplotlib!=3.0.0,>=2.0.0->scikit-image->efficientnet==1.0.0->segmentation-models) (1.15.0)\n",
            "Installing collected packages: keras-applications, image-classifiers, efficientnet, segmentation-models\n",
            "Successfully installed efficientnet-1.0.0 image-classifiers-1.0.0 keras-applications-1.0.8 segmentation-models-1.0.1\n"
          ]
        }
      ]
    },
    {
      "cell_type": "markdown",
      "metadata": {
        "id": "YPbQRHUGycrF"
      },
      "source": [
        "Dice Coef as metric"
      ]
    },
    {
      "cell_type": "code",
      "metadata": {
        "id": "4ffaPfbfDloM"
      },
      "source": [
        "def dice_coef(y_true, y_pred):\n",
        "    y_true_f = K.flatten(y_true)\n",
        "    y_pred_f = K.flatten(y_pred)\n",
        "    intersection = K.sum(y_true_f * y_pred_f)\n",
        "    return (2. * intersection + K.epsilon()) / (K.sum(y_true_f) + K.sum(y_pred_f) + K.epsilon())"
      ],
      "execution_count": 31,
      "outputs": []
    },
    {
      "cell_type": "code",
      "metadata": {
        "id": "QTbgMR-pY_Ug",
        "colab": {
          "base_uri": "https://localhost:8080/"
        },
        "outputId": "13e1f0c5-4b2e-4454-a791-11f54fa90a42"
      },
      "source": [
        "import segmentation_models as sm\n",
        "from tensorflow import keras\n",
        "import time\n",
        "keras.backend.set_image_data_format('channels_last')\n",
        "\n",
        "BACKBONE = 'vgg16'\n",
        "\n",
        "\n",
        "# define model\n",
        "model = sm.Unet(BACKBONE, input_shape=(128, 128, 3), classes=12, activation='softmax', encoder_weights=None, encoder_freeze=True, decoder_use_batchnorm=False)\n",
        "\n",
        "\n",
        "model.compile(optimizer=tensorflow.keras.optimizers.Adam(learning_rate=0.001,amsgrad=True),\n",
        "                   loss=tensorflow.keras.losses.CategoricalCrossentropy(), metrics=[\"accuracy\",dice_coef, sm.metrics.precision,  sm.metrics.recall, sm.metrics.f1_score ])\n",
        "start_time = time.time()\n",
        "results = model.fit(X_train, y_train, batch_size=5,\n",
        "                         verbose=1, epochs=5, \n",
        "                         validation_data=(X_valid, y_valid))\n",
        "print(\"--- %s seconds ---\" % (time.time() - start_time))"
      ],
      "execution_count": 33,
      "outputs": [
        {
          "output_type": "stream",
          "name": "stdout",
          "text": [
            "Epoch 1/5\n",
            "176/176 [==============================] - 25s 128ms/step - loss: 17736830097584816128.0000 - accuracy: 0.4715 - dice_coef: 0.0047 - precision: 0.4207 - recall: 0.9052 - f1-score: 0.4187 - val_loss: 219597277049189826560.0000 - val_accuracy: 0.9632 - val_dice_coef: 0.0064 - val_precision: 0.7531 - val_recall: 0.9373 - val_f1-score: 0.7530\n",
            "Epoch 2/5\n",
            "176/176 [==============================] - 21s 119ms/step - loss: 1029267084431809576960.0000 - accuracy: 0.9641 - dice_coef: 0.0066 - precision: 0.7521 - recall: 0.9353 - f1-score: 0.7524 - val_loss: 1629264000231592165376.0000 - val_accuracy: 0.9632 - val_dice_coef: 0.0064 - val_precision: 0.7531 - val_recall: 0.9373 - val_f1-score: 0.7530\n",
            "Epoch 3/5\n",
            "176/176 [==============================] - 21s 119ms/step - loss: 2088349405771695390720.0000 - accuracy: 0.9641 - dice_coef: 0.0066 - precision: 0.7521 - recall: 0.9304 - f1-score: 0.7525 - val_loss: 2463491795644774875136.0000 - val_accuracy: 0.9632 - val_dice_coef: 0.0064 - val_precision: 0.7531 - val_recall: 0.9373 - val_f1-score: 0.7530\n",
            "Epoch 4/5\n",
            "176/176 [==============================] - 23s 132ms/step - loss: 2873482898696958902272.0000 - accuracy: 0.9641 - dice_coef: 0.0066 - precision: 0.7521 - recall: 0.9369 - f1-score: 0.7524 - val_loss: 3192817104200128266240.0000 - val_accuracy: 0.9632 - val_dice_coef: 0.0064 - val_precision: 0.7531 - val_recall: 0.9373 - val_f1-score: 0.7530\n",
            "Epoch 5/5\n",
            "176/176 [==============================] - 21s 118ms/step - loss: 3612767917828242145280.0000 - accuracy: 0.9641 - dice_coef: 0.0066 - precision: 0.7521 - recall: 0.9318 - f1-score: 0.7524 - val_loss: 3909184993677583319040.0000 - val_accuracy: 0.9632 - val_dice_coef: 0.0064 - val_precision: 0.7531 - val_recall: 0.9373 - val_f1-score: 0.7530\n",
            "--- 145.05543112754822 seconds ---\n"
          ]
        }
      ]
    },
    {
      "cell_type": "code",
      "metadata": {
        "id": "yAo2X6VDr5Dg"
      },
      "source": [
        "# from keras.utils.vis_utils import plot_model\n",
        "# plot_model(model, to_file='inceptionresnetv2.png')"
      ],
      "execution_count": null,
      "outputs": []
    },
    {
      "cell_type": "code",
      "metadata": {
        "id": "F5AgSv54B-t5"
      },
      "source": [
        "# model.summary()"
      ],
      "execution_count": null,
      "outputs": []
    },
    {
      "cell_type": "markdown",
      "metadata": {
        "id": "JVslam54ylw-"
      },
      "source": [
        "### Plot Accuracy and Loss Curves"
      ]
    },
    {
      "cell_type": "code",
      "metadata": {
        "id": "QblFfVF9ZExN",
        "colab": {
          "base_uri": "https://localhost:8080/",
          "height": 513
        },
        "outputId": "941e0e51-7352-4aeb-ae26-415beaaabb19"
      },
      "source": [
        "\n",
        "plt.figure(figsize=(8, 8))\n",
        "plt.title(\"Learning curve\")\n",
        "plt.plot(results.history[\"loss\"], label=\"loss\")\n",
        "plt.plot(results.history[\"val_loss\"], label=\"val_loss\")\n",
        "plt.plot( np.argmin(results.history[\"val_loss\"]), np.min(results.history[\"val_loss\"]), marker=\"x\", color=\"r\", label=\"best model\")\n",
        "plt.xlabel(\"Epochs\")\n",
        "plt.ylabel(\"log_loss\")\n",
        "plt.legend();\n",
        "plt.title('Loss Curve for VGG16')\n",
        "plt.savefig(\"Loss Curve VGG16.png\")\n",
        "plt.show()\n"
      ],
      "execution_count": 47,
      "outputs": [
        {
          "output_type": "display_data",
          "data": {
            "image/png": "[encoded data removed]",
            "text/plain": [
              "<Figure size 576x576 with 1 Axes>"
            ]
          },
          "metadata": {
            "needs_background": "light"
          }
        }
      ]
    },
    {
      "cell_type": "code",
      "metadata": {
        "id": "VEGcKJi7Z-rX",
        "colab": {
          "base_uri": "https://localhost:8080/",
          "height": 513
        },
        "outputId": "795d6145-6405-4d5d-e015-38efcff87ef1"
      },
      "source": [
        "\n",
        "plt.figure(figsize=(8, 8))\n",
        "plt.title(\"Learning curve\")\n",
        "plt.plot(results.history[\"accuracy\"], label=\"accuracy\")\n",
        "plt.plot(results.history[\"val_accuracy\"], label=\"val_accuracy\")\n",
        "# plt.plot( np.argmax(results.history[\"val_accuracy\"]), np.max(results.history[\"val_accuracy\"]), marker=\"x\", color=\"r\", label=\"best model\")\n",
        "plt.xlabel(\"Epochs\")\n",
        "plt.ylabel(\"accuracy\")\n",
        "plt.legend();\n",
        "plt.title('Accuracy Curve for VGG16')\n",
        "plt.savefig(\"Accuracy Curve VGG16.png\")\n",
        "plt.show()\n"
      ],
      "execution_count": 48,
      "outputs": [
        {
          "output_type": "display_data",
          "data": {
            "image/png": "[encoded data removed]",
            "text/plain": [
              "<Figure size 576x576 with 1 Axes>"
            ]
          },
          "metadata": {
            "needs_background": "light"
          }
        }
      ]
    },
    {
      "cell_type": "markdown",
      "metadata": {
        "id": "V1gAooT0yqVo"
      },
      "source": [
        "# Evaluate the Model"
      ]
    },
    {
      "cell_type": "code",
      "metadata": {
        "id": "mS5uU4zOZPli",
        "colab": {
          "base_uri": "https://localhost:8080/"
        },
        "outputId": "e06938e4-45d0-46f0-a69d-b0094c0b334f"
      },
      "source": [
        "model.evaluate(X_label, y_test)\n",
        "start_time = time.time()\n",
        "print(\"--- %s seconds ---\" % (time.time() - start_time))"
      ],
      "execution_count": 49,
      "outputs": [
        {
          "output_type": "stream",
          "name": "stdout",
          "text": [
            "4/4 [==============================] - 1s 145ms/step - loss: 0.0000e+00 - accuracy: 0.9759 - dice_coef: 4.4823e-13 - precision: 0.7500 - recall: 1.0000 - f1-score: 0.7500\n",
            "--- 7.772445678710938e-05 seconds ---\n"
          ]
        }
      ]
    },
    {
      "cell_type": "markdown",
      "metadata": {
        "id": "96k2Xx1yyt33"
      },
      "source": [
        "### Display the Predictions"
      ]
    },
    {
      "cell_type": "code",
      "metadata": {
        "id": "5O62wwfUa7uA"
      },
      "source": [
        "from IPython.display import Image, display\n",
        "from tensorflow.keras.preprocessing.image import load_img\n",
        "import PIL\n",
        "from PIL import ImageOps\n",
        "\n",
        "\n",
        "val_preds = model.predict(X_valid[:100,...])\n",
        "\n"
      ],
      "execution_count": 42,
      "outputs": []
    },
    {
      "cell_type": "code",
      "metadata": {
        "id": "vObyxrrlw_aa",
        "colab": {
          "base_uri": "https://localhost:8080/",
          "height": 456
        },
        "outputId": "cc809188-4dfa-4b7b-ecf0-f34400f8289f"
      },
      "source": [
        "\n",
        "def display_mask_prediction(i):\n",
        "    \"\"\"Quick utility to display a model's prediction.\"\"\"\n",
        "    mask = np.argmax(val_preds[i], axis=-1)\n",
        "    mask = np.expand_dims(mask, axis=-1)\n",
        "    img = PIL.ImageOps.autocontrast(keras.preprocessing.image.array_to_img(mask))\n",
        "    display(img)\n",
        "\n",
        "def display_mask(i):\n",
        "    \"\"\"Quick utility to display a model's prediction.\"\"\"\n",
        "    mask = np.argmax(y_valid[i], axis=-1)\n",
        "    mask = np.expand_dims(mask, axis=-1)\n",
        "    img = PIL.ImageOps.autocontrast(keras.preprocessing.image.array_to_img(mask))\n",
        "    display(img)\n",
        "\n",
        "# Display results for validation image #10\n",
        "i = 43\n",
        "\n",
        "# Display input image\n",
        "img = PIL.ImageOps.autocontrast(keras.preprocessing.image.array_to_img(X_valid[i]))\n",
        "print(\"Input Image\")\n",
        "display(img)\n",
        "\n",
        "\n",
        "# Display ground-truth target mask\n",
        "print(\"ground-truth target mask\")\n",
        "display_mask(i)\n",
        "\n",
        "# Display mask predicted by our model\n",
        "print(\"mask predicted by our model\")\n",
        "display_mask_prediction(i)"
      ],
      "execution_count": 52,
      "outputs": [
        {
          "output_type": "stream",
          "name": "stdout",
          "text": [
            "Input Image\n"
          ]
        },
        {
          "output_type": "display_data",
          "data": {
            "image/png": "[encoded data removed]",
            "text/plain": [
              "<PIL.Image.Image image mode=RGB size=128x128 at 0x7F51802E82D0>"
            ]
          },
          "metadata": {}
        },
        {
          "output_type": "stream",
          "name": "stdout",
          "text": [
            "ground-truth target mask\n"
          ]
        },
        {
          "output_type": "display_data",
          "data": {
            "image/png": "[encoded data removed]",
            "text/plain": [
              "<PIL.Image.Image image mode=L size=128x128 at 0x7F51802E8650>"
            ]
          },
          "metadata": {}
        },
        {
          "output_type": "stream",
          "name": "stdout",
          "text": [
            "mask predicted by our model\n"
          ]
        },
        {
          "output_type": "display_data",
          "data": {
            "image/png": "[encoded data removed]",
            "text/plain": [
              "<PIL.Image.Image image mode=L size=128x128 at 0x7F51802EA310>"
            ]
          },
          "metadata": {}
        }
      ]
    }
  ]
}